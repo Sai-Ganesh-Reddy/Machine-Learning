{
 "cells": [
  {
   "cell_type": "code",
   "execution_count": 1,
   "id": "76c7017d-5971-481e-a3d4-3f9863b2937f",
   "metadata": {},
   "outputs": [],
   "source": [
    "import pandas as pd\n",
    "import numpy as np\n",
    "import warnings\n",
    "warnings.filterwarnings('ignore')"
   ]
  },
  {
   "cell_type": "code",
   "execution_count": 2,
   "id": "aec002cc-cdbe-4bec-915e-8990f13ce9c1",
   "metadata": {},
   "outputs": [],
   "source": [
    "data=pd.read_csv(r\"F:\\csv files\\tesla.csv\")"
   ]
  },
  {
   "cell_type": "code",
   "execution_count": 3,
   "id": "1843d500-b508-4aa3-94b0-ade741e2e2dc",
   "metadata": {},
   "outputs": [
    {
     "data": {
      "text/html": [
       "<div>\n",
       "<style scoped>\n",
       "    .dataframe tbody tr th:only-of-type {\n",
       "        vertical-align: middle;\n",
       "    }\n",
       "\n",
       "    .dataframe tbody tr th {\n",
       "        vertical-align: top;\n",
       "    }\n",
       "\n",
       "    .dataframe thead th {\n",
       "        text-align: right;\n",
       "    }\n",
       "</style>\n",
       "<table border=\"1\" class=\"dataframe\">\n",
       "  <thead>\n",
       "    <tr style=\"text-align: right;\">\n",
       "      <th></th>\n",
       "      <th>Date</th>\n",
       "      <th>Open</th>\n",
       "      <th>High</th>\n",
       "      <th>Low</th>\n",
       "      <th>Close</th>\n",
       "      <th>Adj Close</th>\n",
       "      <th>Volume</th>\n",
       "    </tr>\n",
       "  </thead>\n",
       "  <tbody>\n",
       "    <tr>\n",
       "      <th>0</th>\n",
       "      <td>29-06-2010</td>\n",
       "      <td>19.000000</td>\n",
       "      <td>25.000000</td>\n",
       "      <td>17.540001</td>\n",
       "      <td>23.889999</td>\n",
       "      <td>23.889999</td>\n",
       "      <td>18766300</td>\n",
       "    </tr>\n",
       "    <tr>\n",
       "      <th>1</th>\n",
       "      <td>30-06-2010</td>\n",
       "      <td>25.790001</td>\n",
       "      <td>30.420000</td>\n",
       "      <td>23.299999</td>\n",
       "      <td>23.830000</td>\n",
       "      <td>23.830000</td>\n",
       "      <td>17187100</td>\n",
       "    </tr>\n",
       "    <tr>\n",
       "      <th>2</th>\n",
       "      <td>01-07-2010</td>\n",
       "      <td>25.000000</td>\n",
       "      <td>25.920000</td>\n",
       "      <td>20.270000</td>\n",
       "      <td>21.959999</td>\n",
       "      <td>21.959999</td>\n",
       "      <td>8218800</td>\n",
       "    </tr>\n",
       "    <tr>\n",
       "      <th>3</th>\n",
       "      <td>02-07-2010</td>\n",
       "      <td>23.000000</td>\n",
       "      <td>23.100000</td>\n",
       "      <td>18.709999</td>\n",
       "      <td>19.200001</td>\n",
       "      <td>19.200001</td>\n",
       "      <td>5139800</td>\n",
       "    </tr>\n",
       "    <tr>\n",
       "      <th>4</th>\n",
       "      <td>06-07-2010</td>\n",
       "      <td>20.000000</td>\n",
       "      <td>20.000000</td>\n",
       "      <td>15.830000</td>\n",
       "      <td>16.110001</td>\n",
       "      <td>16.110001</td>\n",
       "      <td>6866900</td>\n",
       "    </tr>\n",
       "    <tr>\n",
       "      <th>...</th>\n",
       "      <td>...</td>\n",
       "      <td>...</td>\n",
       "      <td>...</td>\n",
       "      <td>...</td>\n",
       "      <td>...</td>\n",
       "      <td>...</td>\n",
       "      <td>...</td>\n",
       "    </tr>\n",
       "    <tr>\n",
       "      <th>2188</th>\n",
       "      <td>11-03-2019</td>\n",
       "      <td>283.519989</td>\n",
       "      <td>291.279999</td>\n",
       "      <td>280.500000</td>\n",
       "      <td>290.920013</td>\n",
       "      <td>290.920013</td>\n",
       "      <td>7392300</td>\n",
       "    </tr>\n",
       "    <tr>\n",
       "      <th>2189</th>\n",
       "      <td>12-03-2019</td>\n",
       "      <td>286.489990</td>\n",
       "      <td>288.070007</td>\n",
       "      <td>281.059998</td>\n",
       "      <td>283.359985</td>\n",
       "      <td>283.359985</td>\n",
       "      <td>7504100</td>\n",
       "    </tr>\n",
       "    <tr>\n",
       "      <th>2190</th>\n",
       "      <td>13-03-2019</td>\n",
       "      <td>283.899994</td>\n",
       "      <td>291.989990</td>\n",
       "      <td>282.700012</td>\n",
       "      <td>288.959991</td>\n",
       "      <td>288.959991</td>\n",
       "      <td>6844700</td>\n",
       "    </tr>\n",
       "    <tr>\n",
       "      <th>2191</th>\n",
       "      <td>14-03-2019</td>\n",
       "      <td>292.450012</td>\n",
       "      <td>295.390015</td>\n",
       "      <td>288.290009</td>\n",
       "      <td>289.959991</td>\n",
       "      <td>289.959991</td>\n",
       "      <td>7074200</td>\n",
       "    </tr>\n",
       "    <tr>\n",
       "      <th>2192</th>\n",
       "      <td>15-03-2019</td>\n",
       "      <td>283.510010</td>\n",
       "      <td>283.723999</td>\n",
       "      <td>274.399994</td>\n",
       "      <td>275.429993</td>\n",
       "      <td>275.429993</td>\n",
       "      <td>14758243</td>\n",
       "    </tr>\n",
       "  </tbody>\n",
       "</table>\n",
       "<p>2193 rows × 7 columns</p>\n",
       "</div>"
      ],
      "text/plain": [
       "            Date        Open        High         Low       Close   Adj Close  \\\n",
       "0     29-06-2010   19.000000   25.000000   17.540001   23.889999   23.889999   \n",
       "1     30-06-2010   25.790001   30.420000   23.299999   23.830000   23.830000   \n",
       "2     01-07-2010   25.000000   25.920000   20.270000   21.959999   21.959999   \n",
       "3     02-07-2010   23.000000   23.100000   18.709999   19.200001   19.200001   \n",
       "4     06-07-2010   20.000000   20.000000   15.830000   16.110001   16.110001   \n",
       "...          ...         ...         ...         ...         ...         ...   \n",
       "2188  11-03-2019  283.519989  291.279999  280.500000  290.920013  290.920013   \n",
       "2189  12-03-2019  286.489990  288.070007  281.059998  283.359985  283.359985   \n",
       "2190  13-03-2019  283.899994  291.989990  282.700012  288.959991  288.959991   \n",
       "2191  14-03-2019  292.450012  295.390015  288.290009  289.959991  289.959991   \n",
       "2192  15-03-2019  283.510010  283.723999  274.399994  275.429993  275.429993   \n",
       "\n",
       "        Volume  \n",
       "0     18766300  \n",
       "1     17187100  \n",
       "2      8218800  \n",
       "3      5139800  \n",
       "4      6866900  \n",
       "...        ...  \n",
       "2188   7392300  \n",
       "2189   7504100  \n",
       "2190   6844700  \n",
       "2191   7074200  \n",
       "2192  14758243  \n",
       "\n",
       "[2193 rows x 7 columns]"
      ]
     },
     "execution_count": 3,
     "metadata": {},
     "output_type": "execute_result"
    }
   ],
   "source": [
    "data"
   ]
  },
  {
   "cell_type": "code",
   "execution_count": 4,
   "id": "711bb93e",
   "metadata": {},
   "outputs": [
    {
     "data": {
      "text/html": [
       "<div>\n",
       "<style scoped>\n",
       "    .dataframe tbody tr th:only-of-type {\n",
       "        vertical-align: middle;\n",
       "    }\n",
       "\n",
       "    .dataframe tbody tr th {\n",
       "        vertical-align: top;\n",
       "    }\n",
       "\n",
       "    .dataframe thead th {\n",
       "        text-align: right;\n",
       "    }\n",
       "</style>\n",
       "<table border=\"1\" class=\"dataframe\">\n",
       "  <thead>\n",
       "    <tr style=\"text-align: right;\">\n",
       "      <th></th>\n",
       "      <th>Open</th>\n",
       "      <th>High</th>\n",
       "      <th>Low</th>\n",
       "      <th>Close</th>\n",
       "      <th>Adj Close</th>\n",
       "      <th>Volume</th>\n",
       "    </tr>\n",
       "  </thead>\n",
       "  <tbody>\n",
       "    <tr>\n",
       "      <th>count</th>\n",
       "      <td>2193.000000</td>\n",
       "      <td>2193.000000</td>\n",
       "      <td>2193.000000</td>\n",
       "      <td>2193.000000</td>\n",
       "      <td>2193.000000</td>\n",
       "      <td>2.193000e+03</td>\n",
       "    </tr>\n",
       "    <tr>\n",
       "      <th>mean</th>\n",
       "      <td>175.652882</td>\n",
       "      <td>178.710262</td>\n",
       "      <td>172.412075</td>\n",
       "      <td>175.648555</td>\n",
       "      <td>175.648555</td>\n",
       "      <td>5.077449e+06</td>\n",
       "    </tr>\n",
       "    <tr>\n",
       "      <th>std</th>\n",
       "      <td>115.580903</td>\n",
       "      <td>117.370092</td>\n",
       "      <td>113.654794</td>\n",
       "      <td>115.580771</td>\n",
       "      <td>115.580771</td>\n",
       "      <td>4.545398e+06</td>\n",
       "    </tr>\n",
       "    <tr>\n",
       "      <th>min</th>\n",
       "      <td>16.139999</td>\n",
       "      <td>16.629999</td>\n",
       "      <td>14.980000</td>\n",
       "      <td>15.800000</td>\n",
       "      <td>15.800000</td>\n",
       "      <td>1.185000e+05</td>\n",
       "    </tr>\n",
       "    <tr>\n",
       "      <th>25%</th>\n",
       "      <td>33.110001</td>\n",
       "      <td>33.910000</td>\n",
       "      <td>32.459999</td>\n",
       "      <td>33.160000</td>\n",
       "      <td>33.160000</td>\n",
       "      <td>1.577800e+06</td>\n",
       "    </tr>\n",
       "    <tr>\n",
       "      <th>50%</th>\n",
       "      <td>204.990005</td>\n",
       "      <td>208.160004</td>\n",
       "      <td>201.669998</td>\n",
       "      <td>204.990005</td>\n",
       "      <td>204.990005</td>\n",
       "      <td>4.171700e+06</td>\n",
       "    </tr>\n",
       "    <tr>\n",
       "      <th>75%</th>\n",
       "      <td>262.000000</td>\n",
       "      <td>265.329987</td>\n",
       "      <td>256.209991</td>\n",
       "      <td>261.739990</td>\n",
       "      <td>261.739990</td>\n",
       "      <td>6.885600e+06</td>\n",
       "    </tr>\n",
       "    <tr>\n",
       "      <th>max</th>\n",
       "      <td>386.690002</td>\n",
       "      <td>389.609985</td>\n",
       "      <td>379.350006</td>\n",
       "      <td>385.000000</td>\n",
       "      <td>385.000000</td>\n",
       "      <td>3.716390e+07</td>\n",
       "    </tr>\n",
       "  </tbody>\n",
       "</table>\n",
       "</div>"
      ],
      "text/plain": [
       "              Open         High          Low        Close    Adj Close  \\\n",
       "count  2193.000000  2193.000000  2193.000000  2193.000000  2193.000000   \n",
       "mean    175.652882   178.710262   172.412075   175.648555   175.648555   \n",
       "std     115.580903   117.370092   113.654794   115.580771   115.580771   \n",
       "min      16.139999    16.629999    14.980000    15.800000    15.800000   \n",
       "25%      33.110001    33.910000    32.459999    33.160000    33.160000   \n",
       "50%     204.990005   208.160004   201.669998   204.990005   204.990005   \n",
       "75%     262.000000   265.329987   256.209991   261.739990   261.739990   \n",
       "max     386.690002   389.609985   379.350006   385.000000   385.000000   \n",
       "\n",
       "             Volume  \n",
       "count  2.193000e+03  \n",
       "mean   5.077449e+06  \n",
       "std    4.545398e+06  \n",
       "min    1.185000e+05  \n",
       "25%    1.577800e+06  \n",
       "50%    4.171700e+06  \n",
       "75%    6.885600e+06  \n",
       "max    3.716390e+07  "
      ]
     },
     "execution_count": 4,
     "metadata": {},
     "output_type": "execute_result"
    }
   ],
   "source": [
    "data.describe()"
   ]
  },
  {
   "cell_type": "code",
   "execution_count": 5,
   "id": "d62b7b1e",
   "metadata": {},
   "outputs": [
    {
     "name": "stdout",
     "output_type": "stream",
     "text": [
      "<class 'pandas.core.frame.DataFrame'>\n",
      "RangeIndex: 2193 entries, 0 to 2192\n",
      "Data columns (total 7 columns):\n",
      " #   Column     Non-Null Count  Dtype  \n",
      "---  ------     --------------  -----  \n",
      " 0   Date       2193 non-null   object \n",
      " 1   Open       2193 non-null   float64\n",
      " 2   High       2193 non-null   float64\n",
      " 3   Low        2193 non-null   float64\n",
      " 4   Close      2193 non-null   float64\n",
      " 5   Adj Close  2193 non-null   float64\n",
      " 6   Volume     2193 non-null   int64  \n",
      "dtypes: float64(5), int64(1), object(1)\n",
      "memory usage: 120.1+ KB\n"
     ]
    }
   ],
   "source": [
    "data.info()"
   ]
  },
  {
   "cell_type": "code",
   "execution_count": 6,
   "id": "c4a05a14-b410-4fcf-b8bd-002b95554dd5",
   "metadata": {},
   "outputs": [
    {
     "data": {
      "text/plain": [
       "Date         0\n",
       "Open         0\n",
       "High         0\n",
       "Low          0\n",
       "Close        0\n",
       "Adj Close    0\n",
       "Volume       0\n",
       "dtype: int64"
      ]
     },
     "execution_count": 6,
     "metadata": {},
     "output_type": "execute_result"
    }
   ],
   "source": [
    "data.isnull().sum()"
   ]
  },
  {
   "cell_type": "code",
   "execution_count": 7,
   "id": "1232de4e",
   "metadata": {},
   "outputs": [],
   "source": [
    "cor_data=data.drop([\"Date\"],axis=1)"
   ]
  },
  {
   "cell_type": "code",
   "execution_count": 8,
   "id": "e65691dc",
   "metadata": {},
   "outputs": [
    {
     "data": {
      "text/html": [
       "<div>\n",
       "<style scoped>\n",
       "    .dataframe tbody tr th:only-of-type {\n",
       "        vertical-align: middle;\n",
       "    }\n",
       "\n",
       "    .dataframe tbody tr th {\n",
       "        vertical-align: top;\n",
       "    }\n",
       "\n",
       "    .dataframe thead th {\n",
       "        text-align: right;\n",
       "    }\n",
       "</style>\n",
       "<table border=\"1\" class=\"dataframe\">\n",
       "  <thead>\n",
       "    <tr style=\"text-align: right;\">\n",
       "      <th></th>\n",
       "      <th>Open</th>\n",
       "      <th>High</th>\n",
       "      <th>Low</th>\n",
       "      <th>Close</th>\n",
       "      <th>Adj Close</th>\n",
       "      <th>Volume</th>\n",
       "    </tr>\n",
       "  </thead>\n",
       "  <tbody>\n",
       "    <tr>\n",
       "      <th>Open</th>\n",
       "      <td>1.000000</td>\n",
       "      <td>0.999578</td>\n",
       "      <td>0.999566</td>\n",
       "      <td>0.999054</td>\n",
       "      <td>0.999054</td>\n",
       "      <td>0.457938</td>\n",
       "    </tr>\n",
       "    <tr>\n",
       "      <th>High</th>\n",
       "      <td>0.999578</td>\n",
       "      <td>1.000000</td>\n",
       "      <td>0.999490</td>\n",
       "      <td>0.999631</td>\n",
       "      <td>0.999631</td>\n",
       "      <td>0.466999</td>\n",
       "    </tr>\n",
       "    <tr>\n",
       "      <th>Low</th>\n",
       "      <td>0.999566</td>\n",
       "      <td>0.999490</td>\n",
       "      <td>1.000000</td>\n",
       "      <td>0.999580</td>\n",
       "      <td>0.999580</td>\n",
       "      <td>0.448387</td>\n",
       "    </tr>\n",
       "    <tr>\n",
       "      <th>Close</th>\n",
       "      <td>0.999054</td>\n",
       "      <td>0.999631</td>\n",
       "      <td>0.999580</td>\n",
       "      <td>1.000000</td>\n",
       "      <td>1.000000</td>\n",
       "      <td>0.458157</td>\n",
       "    </tr>\n",
       "    <tr>\n",
       "      <th>Adj Close</th>\n",
       "      <td>0.999054</td>\n",
       "      <td>0.999631</td>\n",
       "      <td>0.999580</td>\n",
       "      <td>1.000000</td>\n",
       "      <td>1.000000</td>\n",
       "      <td>0.458157</td>\n",
       "    </tr>\n",
       "    <tr>\n",
       "      <th>Volume</th>\n",
       "      <td>0.457938</td>\n",
       "      <td>0.466999</td>\n",
       "      <td>0.448387</td>\n",
       "      <td>0.458157</td>\n",
       "      <td>0.458157</td>\n",
       "      <td>1.000000</td>\n",
       "    </tr>\n",
       "  </tbody>\n",
       "</table>\n",
       "</div>"
      ],
      "text/plain": [
       "               Open      High       Low     Close  Adj Close    Volume\n",
       "Open       1.000000  0.999578  0.999566  0.999054   0.999054  0.457938\n",
       "High       0.999578  1.000000  0.999490  0.999631   0.999631  0.466999\n",
       "Low        0.999566  0.999490  1.000000  0.999580   0.999580  0.448387\n",
       "Close      0.999054  0.999631  0.999580  1.000000   1.000000  0.458157\n",
       "Adj Close  0.999054  0.999631  0.999580  1.000000   1.000000  0.458157\n",
       "Volume     0.457938  0.466999  0.448387  0.458157   0.458157  1.000000"
      ]
     },
     "execution_count": 8,
     "metadata": {},
     "output_type": "execute_result"
    }
   ],
   "source": [
    "data_corr=cor_data.corr()\n",
    "data_corr"
   ]
  },
  {
   "cell_type": "code",
   "execution_count": 9,
   "id": "e26dca08",
   "metadata": {},
   "outputs": [
    {
     "data": {
      "text/plain": [
       "<Axes: >"
      ]
     },
     "execution_count": 9,
     "metadata": {},
     "output_type": "execute_result"
    },
    {
     "data": {
      "image/png": "[encoded data removed]",
      "text/plain": [
       "<Figure size 640x480 with 2 Axes>"
      ]
     },
     "metadata": {},
     "output_type": "display_data"
    }
   ],
   "source": [
    "import seaborn as sns\n",
    "sns.heatmap(data_corr,vmax=1,vmin=-1,annot=True,linewidth=4,cmap='bwr')"
   ]
  },
  {
   "cell_type": "code",
   "execution_count": 10,
   "id": "e1a4659e-557f-409b-88f4-7ab11a272748",
   "metadata": {},
   "outputs": [],
   "source": [
    "actual=data['Close']"
   ]
  },
  {
   "cell_type": "code",
   "execution_count": 12,
   "id": "7cf31717-4c48-4242-bdd5-57edf084ccdd",
   "metadata": {},
   "outputs": [],
   "source": [
    "x= np.array(data.index).reshape(-1,1)\n",
    "data2=data.drop('Close',axis=1)"
   ]
  },
  {
   "cell_type": "code",
   "execution_count": 13,
   "id": "6d17cdc6-18d0-4cdb-88e4-98c37f115771",
   "metadata": {},
   "outputs": [
    {
     "data": {
      "text/plain": [
       "['Date', 'Open', 'High', 'Low', 'Adj Close', 'Volume']"
      ]
     },
     "execution_count": 13,
     "metadata": {},
     "output_type": "execute_result"
    }
   ],
   "source": [
    "data_list=list(data2.columns)\n",
    "data_list"
   ]
  },
  {
   "cell_type": "code",
   "execution_count": 14,
   "id": "e55e5ada-92f5-421f-bd8a-d3fe93086038",
   "metadata": {},
   "outputs": [
    {
     "data": {
      "text/plain": [
       "Index(['Date', 'Open', 'High', 'Low', 'Adj Close', 'Volume'], dtype='object')"
      ]
     },
     "execution_count": 14,
     "metadata": {},
     "output_type": "execute_result"
    }
   ],
   "source": [
    "data2.columns"
   ]
  },
  {
   "cell_type": "code",
   "execution_count": 15,
   "id": "49ae2c9b-0a16-4729-8d91-833f1eeb7b2b",
   "metadata": {},
   "outputs": [],
   "source": [
    "from sklearn.model_selection import train_test_split\n",
    "x_train,x_test,y_train,y_test=train_test_split(x,actual,test_size=0.33,random_state=42)"
   ]
  },
  {
   "cell_type": "code",
   "execution_count": 16,
   "id": "419cd5e8",
   "metadata": {},
   "outputs": [],
   "source": [
    "from sklearn.model_selection import train_test_split\n",
    "x_train2,x_test2,y_train2,y_test2=train_test_split(x,actual,test_size=0.27,random_state=42)"
   ]
  },
  {
   "cell_type": "code",
   "execution_count": 17,
   "id": "d4f54802",
   "metadata": {},
   "outputs": [],
   "source": [
    "from sklearn.model_selection import train_test_split\n",
    "x_train3,x_test3,y_train3,y_test3=train_test_split(x,actual,test_size=0.22,random_state=42)"
   ]
  },
  {
   "cell_type": "code",
   "execution_count": 18,
   "id": "a9361ed6",
   "metadata": {},
   "outputs": [],
   "source": [
    "from sklearn.linear_model import LinearRegression\n",
    "reg = LinearRegression()"
   ]
  },
  {
   "cell_type": "code",
   "execution_count": 19,
   "id": "946fef56",
   "metadata": {},
   "outputs": [
    {
     "data": {
      "text/html": [
       "<style>#sk-container-id-1 {color: black;}#sk-container-id-1 pre{padding: 0;}#sk-container-id-1 div.sk-toggleable {background-color: white;}#sk-container-id-1 label.sk-toggleable__label {cursor: pointer;display: block;width: 100%;margin-bottom: 0;padding: 0.3em;box-sizing: border-box;text-align: center;}#sk-container-id-1 label.sk-toggleable__label-arrow:before {content: \"▸\";float: left;margin-right: 0.25em;color: #696969;}#sk-container-id-1 label.sk-toggleable__label-arrow:hover:before {color: black;}#sk-container-id-1 div.sk-estimator:hover label.sk-toggleable__label-arrow:before {color: black;}#sk-container-id-1 div.sk-toggleable__content {max-height: 0;max-width: 0;overflow: hidden;text-align: left;background-color: #f0f8ff;}#sk-container-id-1 div.sk-toggleable__content pre {margin: 0.2em;color: black;border-radius: 0.25em;background-color: #f0f8ff;}#sk-container-id-1 input.sk-toggleable__control:checked~div.sk-toggleable__content {max-height: 200px;max-width: 100%;overflow: auto;}#sk-container-id-1 input.sk-toggleable__control:checked~label.sk-toggleable__label-arrow:before {content: \"▾\";}#sk-container-id-1 div.sk-estimator input.sk-toggleable__control:checked~label.sk-toggleable__label {background-color: #d4ebff;}#sk-container-id-1 div.sk-label input.sk-toggleable__control:checked~label.sk-toggleable__label {background-color: #d4ebff;}#sk-container-id-1 input.sk-hidden--visually {border: 0;clip: rect(1px 1px 1px 1px);clip: rect(1px, 1px, 1px, 1px);height: 1px;margin: -1px;overflow: hidden;padding: 0;position: absolute;width: 1px;}#sk-container-id-1 div.sk-estimator {font-family: monospace;background-color: #f0f8ff;border: 1px dotted black;border-radius: 0.25em;box-sizing: border-box;margin-bottom: 0.5em;}#sk-container-id-1 div.sk-estimator:hover {background-color: #d4ebff;}#sk-container-id-1 div.sk-parallel-item::after {content: \"\";width: 100%;border-bottom: 1px solid gray;flex-grow: 1;}#sk-container-id-1 div.sk-label:hover label.sk-toggleable__label {background-color: #d4ebff;}#sk-container-id-1 div.sk-serial::before {content: \"\";position: absolute;border-left: 1px solid gray;box-sizing: border-box;top: 0;bottom: 0;left: 50%;z-index: 0;}#sk-container-id-1 div.sk-serial {display: flex;flex-direction: column;align-items: center;background-color: white;padding-right: 0.2em;padding-left: 0.2em;position: relative;}#sk-container-id-1 div.sk-item {position: relative;z-index: 1;}#sk-container-id-1 div.sk-parallel {display: flex;align-items: stretch;justify-content: center;background-color: white;position: relative;}#sk-container-id-1 div.sk-item::before, #sk-container-id-1 div.sk-parallel-item::before {content: \"\";position: absolute;border-left: 1px solid gray;box-sizing: border-box;top: 0;bottom: 0;left: 50%;z-index: -1;}#sk-container-id-1 div.sk-parallel-item {display: flex;flex-direction: column;z-index: 1;position: relative;background-color: white;}#sk-container-id-1 div.sk-parallel-item:first-child::after {align-self: flex-end;width: 50%;}#sk-container-id-1 div.sk-parallel-item:last-child::after {align-self: flex-start;width: 50%;}#sk-container-id-1 div.sk-parallel-item:only-child::after {width: 0;}#sk-container-id-1 div.sk-dashed-wrapped {border: 1px dashed gray;margin: 0 0.4em 0.5em 0.4em;box-sizing: border-box;padding-bottom: 0.4em;background-color: white;}#sk-container-id-1 div.sk-label label {font-family: monospace;font-weight: bold;display: inline-block;line-height: 1.2em;}#sk-container-id-1 div.sk-label-container {text-align: center;}#sk-container-id-1 div.sk-container {/* jupyter's `normalize.less` sets `[hidden] { display: none; }` but bootstrap.min.css set `[hidden] { display: none !important; }` so we also need the `!important` here to be able to override the default hidden behavior on the sphinx rendered scikit-learn.org. See: https://github.com/scikit-learn/scikit-learn/issues/21755 */display: inline-block !important;position: relative;}#sk-container-id-1 div.sk-text-repr-fallback {display: none;}</style><div id=\"sk-container-id-1\" class=\"sk-top-container\"><div class=\"sk-text-repr-fallback\"><pre>LinearRegression()</pre><b>In a Jupyter environment, please rerun this cell to show the HTML representation or trust the notebook. <br />On GitHub, the HTML representation is unable to render, please try loading this page with nbviewer.org.</b></div><div class=\"sk-container\" hidden><div class=\"sk-item\"><div class=\"sk-estimator sk-toggleable\"><input class=\"sk-toggleable__control sk-hidden--visually\" id=\"sk-estimator-id-1\" type=\"checkbox\" checked><label for=\"sk-estimator-id-1\" class=\"sk-toggleable__label sk-toggleable__label-arrow\">LinearRegression</label><div class=\"sk-toggleable__content\"><pre>LinearRegression()</pre></div></div></div></div></div>"
      ],
      "text/plain": [
       "LinearRegression()"
      ]
     },
     "execution_count": 19,
     "metadata": {},
     "output_type": "execute_result"
    }
   ],
   "source": [
    "reg.fit(x_train,y_train)"
   ]
  },
  {
   "cell_type": "code",
   "execution_count": 20,
   "id": "a508e796",
   "metadata": {},
   "outputs": [
    {
     "data": {
      "text/html": [
       "<style>#sk-container-id-2 {color: black;}#sk-container-id-2 pre{padding: 0;}#sk-container-id-2 div.sk-toggleable {background-color: white;}#sk-container-id-2 label.sk-toggleable__label {cursor: pointer;display: block;width: 100%;margin-bottom: 0;padding: 0.3em;box-sizing: border-box;text-align: center;}#sk-container-id-2 label.sk-toggleable__label-arrow:before {content: \"▸\";float: left;margin-right: 0.25em;color: #696969;}#sk-container-id-2 label.sk-toggleable__label-arrow:hover:before {color: black;}#sk-container-id-2 div.sk-estimator:hover label.sk-toggleable__label-arrow:before {color: black;}#sk-container-id-2 div.sk-toggleable__content {max-height: 0;max-width: 0;overflow: hidden;text-align: left;background-color: #f0f8ff;}#sk-container-id-2 div.sk-toggleable__content pre {margin: 0.2em;color: black;border-radius: 0.25em;background-color: #f0f8ff;}#sk-container-id-2 input.sk-toggleable__control:checked~div.sk-toggleable__content {max-height: 200px;max-width: 100%;overflow: auto;}#sk-container-id-2 input.sk-toggleable__control:checked~label.sk-toggleable__label-arrow:before {content: \"▾\";}#sk-container-id-2 div.sk-estimator input.sk-toggleable__control:checked~label.sk-toggleable__label {background-color: #d4ebff;}#sk-container-id-2 div.sk-label input.sk-toggleable__control:checked~label.sk-toggleable__label {background-color: #d4ebff;}#sk-container-id-2 input.sk-hidden--visually {border: 0;clip: rect(1px 1px 1px 1px);clip: rect(1px, 1px, 1px, 1px);height: 1px;margin: -1px;overflow: hidden;padding: 0;position: absolute;width: 1px;}#sk-container-id-2 div.sk-estimator {font-family: monospace;background-color: #f0f8ff;border: 1px dotted black;border-radius: 0.25em;box-sizing: border-box;margin-bottom: 0.5em;}#sk-container-id-2 div.sk-estimator:hover {background-color: #d4ebff;}#sk-container-id-2 div.sk-parallel-item::after {content: \"\";width: 100%;border-bottom: 1px solid gray;flex-grow: 1;}#sk-container-id-2 div.sk-label:hover label.sk-toggleable__label {background-color: #d4ebff;}#sk-container-id-2 div.sk-serial::before {content: \"\";position: absolute;border-left: 1px solid gray;box-sizing: border-box;top: 0;bottom: 0;left: 50%;z-index: 0;}#sk-container-id-2 div.sk-serial {display: flex;flex-direction: column;align-items: center;background-color: white;padding-right: 0.2em;padding-left: 0.2em;position: relative;}#sk-container-id-2 div.sk-item {position: relative;z-index: 1;}#sk-container-id-2 div.sk-parallel {display: flex;align-items: stretch;justify-content: center;background-color: white;position: relative;}#sk-container-id-2 div.sk-item::before, #sk-container-id-2 div.sk-parallel-item::before {content: \"\";position: absolute;border-left: 1px solid gray;box-sizing: border-box;top: 0;bottom: 0;left: 50%;z-index: -1;}#sk-container-id-2 div.sk-parallel-item {display: flex;flex-direction: column;z-index: 1;position: relative;background-color: white;}#sk-container-id-2 div.sk-parallel-item:first-child::after {align-self: flex-end;width: 50%;}#sk-container-id-2 div.sk-parallel-item:last-child::after {align-self: flex-start;width: 50%;}#sk-container-id-2 div.sk-parallel-item:only-child::after {width: 0;}#sk-container-id-2 div.sk-dashed-wrapped {border: 1px dashed gray;margin: 0 0.4em 0.5em 0.4em;box-sizing: border-box;padding-bottom: 0.4em;background-color: white;}#sk-container-id-2 div.sk-label label {font-family: monospace;font-weight: bold;display: inline-block;line-height: 1.2em;}#sk-container-id-2 div.sk-label-container {text-align: center;}#sk-container-id-2 div.sk-container {/* jupyter's `normalize.less` sets `[hidden] { display: none; }` but bootstrap.min.css set `[hidden] { display: none !important; }` so we also need the `!important` here to be able to override the default hidden behavior on the sphinx rendered scikit-learn.org. See: https://github.com/scikit-learn/scikit-learn/issues/21755 */display: inline-block !important;position: relative;}#sk-container-id-2 div.sk-text-repr-fallback {display: none;}</style><div id=\"sk-container-id-2\" class=\"sk-top-container\"><div class=\"sk-text-repr-fallback\"><pre>LinearRegression()</pre><b>In a Jupyter environment, please rerun this cell to show the HTML representation or trust the notebook. <br />On GitHub, the HTML representation is unable to render, please try loading this page with nbviewer.org.</b></div><div class=\"sk-container\" hidden><div class=\"sk-item\"><div class=\"sk-estimator sk-toggleable\"><input class=\"sk-toggleable__control sk-hidden--visually\" id=\"sk-estimator-id-2\" type=\"checkbox\" checked><label for=\"sk-estimator-id-2\" class=\"sk-toggleable__label sk-toggleable__label-arrow\">LinearRegression</label><div class=\"sk-toggleable__content\"><pre>LinearRegression()</pre></div></div></div></div></div>"
      ],
      "text/plain": [
       "LinearRegression()"
      ]
     },
     "execution_count": 20,
     "metadata": {},
     "output_type": "execute_result"
    }
   ],
   "source": [
    "reg2 = LinearRegression()\n",
    "reg2.fit(x_train2,y_train2)\n"
   ]
  },
  {
   "cell_type": "code",
   "execution_count": 21,
   "id": "8c92d7bd",
   "metadata": {},
   "outputs": [
    {
     "data": {
      "text/html": [
       "<style>#sk-container-id-3 {color: black;}#sk-container-id-3 pre{padding: 0;}#sk-container-id-3 div.sk-toggleable {background-color: white;}#sk-container-id-3 label.sk-toggleable__label {cursor: pointer;display: block;width: 100%;margin-bottom: 0;padding: 0.3em;box-sizing: border-box;text-align: center;}#sk-container-id-3 label.sk-toggleable__label-arrow:before {content: \"▸\";float: left;margin-right: 0.25em;color: #696969;}#sk-container-id-3 label.sk-toggleable__label-arrow:hover:before {color: black;}#sk-container-id-3 div.sk-estimator:hover label.sk-toggleable__label-arrow:before {color: black;}#sk-container-id-3 div.sk-toggleable__content {max-height: 0;max-width: 0;overflow: hidden;text-align: left;background-color: #f0f8ff;}#sk-container-id-3 div.sk-toggleable__content pre {margin: 0.2em;color: black;border-radius: 0.25em;background-color: #f0f8ff;}#sk-container-id-3 input.sk-toggleable__control:checked~div.sk-toggleable__content {max-height: 200px;max-width: 100%;overflow: auto;}#sk-container-id-3 input.sk-toggleable__control:checked~label.sk-toggleable__label-arrow:before {content: \"▾\";}#sk-container-id-3 div.sk-estimator input.sk-toggleable__control:checked~label.sk-toggleable__label {background-color: #d4ebff;}#sk-container-id-3 div.sk-label input.sk-toggleable__control:checked~label.sk-toggleable__label {background-color: #d4ebff;}#sk-container-id-3 input.sk-hidden--visually {border: 0;clip: rect(1px 1px 1px 1px);clip: rect(1px, 1px, 1px, 1px);height: 1px;margin: -1px;overflow: hidden;padding: 0;position: absolute;width: 1px;}#sk-container-id-3 div.sk-estimator {font-family: monospace;background-color: #f0f8ff;border: 1px dotted black;border-radius: 0.25em;box-sizing: border-box;margin-bottom: 0.5em;}#sk-container-id-3 div.sk-estimator:hover {background-color: #d4ebff;}#sk-container-id-3 div.sk-parallel-item::after {content: \"\";width: 100%;border-bottom: 1px solid gray;flex-grow: 1;}#sk-container-id-3 div.sk-label:hover label.sk-toggleable__label {background-color: #d4ebff;}#sk-container-id-3 div.sk-serial::before {content: \"\";position: absolute;border-left: 1px solid gray;box-sizing: border-box;top: 0;bottom: 0;left: 50%;z-index: 0;}#sk-container-id-3 div.sk-serial {display: flex;flex-direction: column;align-items: center;background-color: white;padding-right: 0.2em;padding-left: 0.2em;position: relative;}#sk-container-id-3 div.sk-item {position: relative;z-index: 1;}#sk-container-id-3 div.sk-parallel {display: flex;align-items: stretch;justify-content: center;background-color: white;position: relative;}#sk-container-id-3 div.sk-item::before, #sk-container-id-3 div.sk-parallel-item::before {content: \"\";position: absolute;border-left: 1px solid gray;box-sizing: border-box;top: 0;bottom: 0;left: 50%;z-index: -1;}#sk-container-id-3 div.sk-parallel-item {display: flex;flex-direction: column;z-index: 1;position: relative;background-color: white;}#sk-container-id-3 div.sk-parallel-item:first-child::after {align-self: flex-end;width: 50%;}#sk-container-id-3 div.sk-parallel-item:last-child::after {align-self: flex-start;width: 50%;}#sk-container-id-3 div.sk-parallel-item:only-child::after {width: 0;}#sk-container-id-3 div.sk-dashed-wrapped {border: 1px dashed gray;margin: 0 0.4em 0.5em 0.4em;box-sizing: border-box;padding-bottom: 0.4em;background-color: white;}#sk-container-id-3 div.sk-label label {font-family: monospace;font-weight: bold;display: inline-block;line-height: 1.2em;}#sk-container-id-3 div.sk-label-container {text-align: center;}#sk-container-id-3 div.sk-container {/* jupyter's `normalize.less` sets `[hidden] { display: none; }` but bootstrap.min.css set `[hidden] { display: none !important; }` so we also need the `!important` here to be able to override the default hidden behavior on the sphinx rendered scikit-learn.org. See: https://github.com/scikit-learn/scikit-learn/issues/21755 */display: inline-block !important;position: relative;}#sk-container-id-3 div.sk-text-repr-fallback {display: none;}</style><div id=\"sk-container-id-3\" class=\"sk-top-container\"><div class=\"sk-text-repr-fallback\"><pre>LinearRegression()</pre><b>In a Jupyter environment, please rerun this cell to show the HTML representation or trust the notebook. <br />On GitHub, the HTML representation is unable to render, please try loading this page with nbviewer.org.</b></div><div class=\"sk-container\" hidden><div class=\"sk-item\"><div class=\"sk-estimator sk-toggleable\"><input class=\"sk-toggleable__control sk-hidden--visually\" id=\"sk-estimator-id-3\" type=\"checkbox\" checked><label for=\"sk-estimator-id-3\" class=\"sk-toggleable__label sk-toggleable__label-arrow\">LinearRegression</label><div class=\"sk-toggleable__content\"><pre>LinearRegression()</pre></div></div></div></div></div>"
      ],
      "text/plain": [
       "LinearRegression()"
      ]
     },
     "execution_count": 21,
     "metadata": {},
     "output_type": "execute_result"
    }
   ],
   "source": [
    "reg3 = LinearRegression()\n",
    "reg3.fit(x_train3,y_train3)"
   ]
  },
  {
   "cell_type": "code",
   "execution_count": 22,
   "id": "72dc71de-c8d8-4fb8-8300-ff78c4b42150",
   "metadata": {
    "scrolled": true
   },
   "outputs": [
    {
     "data": {
      "text/plain": [
       "array([ 55.44586994,  80.27376024, 198.83960367,  26.56444654,\n",
       "       226.20095215, 143.61021506,  51.89902847,  38.55614866,\n",
       "        19.30186639,   7.81685592,   9.67472526,  -4.1748462 ,\n",
       "       153.74404783, 300.51572581, 236.16588771, 324.83692446,\n",
       "       341.38885132, 290.71968746, 192.42150958, 244.77964556,\n",
       "       151.21058964,  95.81230382, 342.06444017, 109.9996697 ,\n",
       "       322.64126069, 116.24886658, 179.07862976, 180.09201304,\n",
       "        80.78045187,  79.93596581, 120.13350247,  42.77857898,\n",
       "       157.62868373,  45.14313996, 156.27750602, 246.13082327,\n",
       "        76.72691877, 222.99190511, 128.07167148, 149.52161751,\n",
       "       179.41642419,  61.86396403, 135.67204605, 117.9378387 ,\n",
       "       204.75100612, 131.28071852, 157.79758094, 106.79062265,\n",
       "        13.55936115,  66.08639435, 245.96192605, 242.41508458,\n",
       "       334.12627117, 255.42016998,  94.46112612, 196.98173432,\n",
       "       297.13778155, 244.44185114, 279.74136863,  89.73200416,\n",
       "        45.6498316 , 295.111015  ,   7.14126707, 118.61342756,\n",
       "        50.21005635, 284.30159337,  60.00609469, 332.94399068,\n",
       "       249.50876752,  42.60968177, 348.48253426,  37.37386817,\n",
       "       135.50314884, 235.65919607, 226.53874658, 189.04356532,\n",
       "        97.67017316, 190.56364024, 221.30293298, 123.00475509,\n",
       "         3.25663117, 129.08505475, 132.96969065, 124.69372722,\n",
       "       138.37440146, 171.30935797, 258.12252538,  50.04115913,\n",
       "        63.55293616,  24.03098835, 310.64955858, 298.32006204,\n",
       "        71.66000238, 314.02750284, 349.66481475,  60.1749919 ,\n",
       "       307.77830596, 239.71272918,   2.74993953,  95.64340661,\n",
       "       217.41829708, 111.68864183, 226.36984936, 224.34308281,\n",
       "       173.84281616, 127.39608262,  21.15973573, 334.63296281,\n",
       "        50.71674798, 207.1155671 , 157.45978651, 128.91615754,\n",
       "        42.10299013,   9.33693083,  50.54785077, 273.15437733,\n",
       "         2.24324789,  70.47772189, 344.42900115, 209.14233365,\n",
       "       306.25823105, 260.993778  , 323.65464397, 348.82032869,\n",
       "       274.84334945, 100.20363135, 105.60834216, 322.97905512,\n",
       "       264.8784139 , 161.51331962, 195.2927622 , 159.48655307,\n",
       "       170.12707748, 205.59549218, 171.14046076,  29.9423908 ,\n",
       "        22.0042218 ,  74.36235779, 199.51519252,  59.49940305,\n",
       "       112.36423068,  59.83719748, 331.9306074 , 100.71032299,\n",
       "        13.72825837, 355.91401163,  33.8270267 ,  76.55802155,\n",
       "       286.15946272,  52.91241175, 175.7006855 , 343.24672066,\n",
       "        31.46246572,  60.85058076,  38.38725145,  39.73842915,\n",
       "        12.54597788, 251.19773965, 264.70951668, 286.32835993,\n",
       "       213.53366118,  72.33559123,  -0.45910751, 279.91026584,\n",
       "       345.10459001, 278.39019092, 342.57113181,  33.32033506,\n",
       "        90.23869579,  30.28018523, 159.99324471, 104.08826725,\n",
       "       116.07996936, 307.94720318, 245.2863372 , 359.12305867,\n",
       "        56.29035601, 122.83585788, 166.58023601, 108.14180036,\n",
       "       272.64768569,  41.08960685, 330.41053249, 316.05426939,\n",
       "        39.90732636, 210.66240857,  72.84228287, 301.86690351,\n",
       "        41.25850406,  93.10994841, 148.17043981,  89.0564153 ,\n",
       "       270.11422749,  22.67981065, 338.34870149, 136.00984048,\n",
       "       216.23601659, 163.70898339, 228.2277187 , 231.94345739,\n",
       "       333.95737396, 178.40304091, 356.92739491, 237.51706541,\n",
       "       193.26599564, 146.8192621 , 175.19399386,  11.19480017,\n",
       "       103.75047282, 142.93462621, 275.85673273,   0.38537855,\n",
       "        27.74672703,  62.87734731, 278.55908814, 168.94479699,\n",
       "       201.8797535 ,  84.49619056, 189.38135975,  64.90411386,\n",
       "       277.54570486,  73.01118008, 309.80507252, 307.44051154,\n",
       "       121.14688575,  53.08130896, 159.65545028, 192.59040679,\n",
       "       141.75234572, 239.03714033, 325.85030774, 179.5853214 ,\n",
       "       161.34442241, 315.20978333,  -1.641388  , 192.25261236,\n",
       "       213.87145561, 232.28125181, 300.17793138,  23.3553995 ,\n",
       "       206.77777267, 150.19720636, 287.34174321, 231.26786854,\n",
       "       355.74511442, 302.88028679,  48.68998143, 269.94533028,\n",
       "         2.58104232, 316.56096103, 146.48146768, 180.9364991 ,\n",
       "       246.63751491,  29.77349359,  32.64474621,  34.67151276,\n",
       "       317.74324152,  80.44265745, 174.01171337, 347.80694541,\n",
       "       284.13269616,  31.2935685 ,   7.6479587 , 137.36101818,\n",
       "       261.83826406, 244.10405671,  87.36744318, 157.2908893 ,\n",
       "       140.57006523, 187.01679877, 232.1123546 ,  11.87038903,\n",
       "       297.30667877,  22.17311901,  82.63832122, 292.40865959,\n",
       "         1.90545347, 326.52589659, 253.73119785, 291.73307074,\n",
       "       331.42391576, 345.94907607, 164.72236667, 289.8752014 ,\n",
       "       265.55400275, 265.89179717, 334.4640656 ,  71.9977968 ,\n",
       "        61.18837518, 352.8738618 ,  26.73334376, 344.93569279,\n",
       "        63.04624452, 267.74966651, 224.00528838, 174.18061059,\n",
       "       234.47691558, 196.30614547,  82.80721843, 291.56417353,\n",
       "        26.39554933, 123.84924115,  41.42740128, 310.81845579,\n",
       "       108.31069757, 283.11931288,  28.08452146, 191.07033187,\n",
       "        30.95577408, 214.37814725, 171.81604961, 243.09067344,\n",
       "        97.33237873, 240.0505236 , 119.96460526, 359.79864752,\n",
       "       316.72985824,  83.48280728,  -6.8772016 , 143.94800948,\n",
       "        40.92070964, 269.43863864, 298.48895926,  71.82889959,\n",
       "       291.39527632,  64.0596278 , 134.32086835, 139.38778474,\n",
       "       180.76760189, 197.82622039,  47.0010093 , 147.15705653,\n",
       "       299.84013696, 358.44746982, 132.46299901, 181.94988238,\n",
       "       242.75287901, 235.49029886,  81.28714351, 333.78847674,\n",
       "        66.93088042, 224.1741856 , 330.91722413,  44.2986539 ,\n",
       "       172.15384403,   8.66134198, 219.10726921,  11.36369739,\n",
       "        62.20175846, 255.08237555,  55.61476716, 301.6980063 ,\n",
       "       217.75609151, 312.1696335 ,  10.35031411,   3.76332281,\n",
       "        80.10486302, 347.97584262, 350.00260918, 321.29008299,\n",
       "       285.9905655 ,  78.58478811, 253.05560899, 191.4081263 ,\n",
       "       123.51144673, 223.66749396, 112.70202511, 153.40625341,\n",
       "       240.21942082, 165.90464716, 232.45014903, 258.29142259,\n",
       "       188.53687368, 148.33933702,  20.99083852, 100.54142578,\n",
       "        92.60325677, 118.44453034,  98.00796759, 280.92364912,\n",
       "       322.81015791, 166.07354437, 352.02937573, 270.62091913,\n",
       "       256.43355325, 257.78473096, 314.70309169, 153.57515062,\n",
       "       145.4680844 , 242.5839818 ,  74.531255  , 236.33478492,\n",
       "       212.85807233,   1.56765904, 100.8792202 , 358.95416146,\n",
       "       212.01358627, 167.7625165 , 275.35004109, 234.30801837,\n",
       "       216.06711938, 319.77000808, 176.71406878, 164.04677782,\n",
       "       327.70817708, 268.08746094, 323.82354118,  25.55106327,\n",
       "       238.36155148,  98.34576201, 277.03901322, 325.3436161 ,\n",
       "       318.58772759, 169.62038584, 132.63189622,  89.22531252,\n",
       "        -5.18822947, 303.049184  , 327.20148544,  84.15839613,\n",
       "        24.36878278,  -0.79690194,  20.14635246,  63.89073059,\n",
       "       251.36663687, 151.71728128,  42.94747619, 210.32461414,\n",
       "        94.12333169,  91.5898735 ,   0.89207019,   2.91883674,\n",
       "       259.98039472, 318.92552201, 314.36529726, 205.08880054,\n",
       "       116.92445543, 163.54008618, 137.02322376, 240.38831803,\n",
       "        18.28848311, 298.65785647, 251.70443129,  85.67847105,\n",
       "       208.63564201, 356.08290884,  34.16482112, 243.25957065,\n",
       "        65.24190829, 320.1078025 , 291.2263791 , 141.07675687,\n",
       "       110.33746413, 149.18382308, 204.41321169,  -5.69492111,\n",
       "        86.18516269, 339.86877641, 318.7566248 ,  55.27697273,\n",
       "       205.42659497,  92.09656514, 151.04169243, 259.81149751,\n",
       "        77.74030204, 162.69560011,  68.78874976, 282.10592961,\n",
       "       128.74726033, 203.90652005, 115.2354833 , 318.08103595,\n",
       "       178.74083533, 236.50368213,  54.09469224,  36.5293821 ,\n",
       "       145.29918719, 336.15303772,  95.13671497,  69.2954414 ,\n",
       "       216.57381102, 186.34120991,  90.57649022,  63.38403895,\n",
       "       127.22718541,  -4.85043505, 143.44131785, 359.62975031,\n",
       "        68.28205812, 127.73387705, 104.7638561 ,   4.10111723,\n",
       "        52.74351454, 241.40170131,  -3.66815456, 116.586661  ,\n",
       "       210.15571693,  84.66508777, 311.15625022, 296.12439828,\n",
       "        64.39742223, 270.78981635, 317.57434431,  18.45738033,\n",
       "        25.21326884, 144.1169067 , 329.39714921, 256.94024489,\n",
       "       328.21486872,  42.44078455,  26.22665212, 122.66696066,\n",
       "       308.11610039, 203.56872563, 357.94077818, 159.31765586,\n",
       "       113.71540838, 263.02054455, 155.26412275, 355.06952556,\n",
       "        72.50448844, 177.72745206, 136.34763491, 129.25395197,\n",
       "       155.77081439, 312.33853071,  60.34388912, 194.27937892,\n",
       "        81.79383515, 293.08424844, 105.43944495, 186.67900434,\n",
       "       301.36021187, 347.13135656,  66.42418878, 190.39474302,\n",
       "       183.13216287, 123.68034394, 327.87707429, 253.90009506,\n",
       "        -1.47249079, 295.78660385, 149.69051472,  40.58291521,\n",
       "       175.02509665, 272.30989126, 189.55025696, 143.77911227,\n",
       "        64.56631944, 309.46727809,  57.30373929, 263.52723619,\n",
       "        81.1182463 ,  -4.00594898, 248.66428146, 255.25127276,\n",
       "       182.11877959, 302.03580073, 133.6452795 , 177.55855484,\n",
       "        49.02777586,  84.83398498, 306.76492269,  50.37895356,\n",
       "         6.296781  , 130.94292409, 272.47878847, 147.32595374,\n",
       "        93.95443448,  35.00930719, 280.07916305, 155.43301996,\n",
       "       280.24806027,  86.69185432,  92.43435956, 174.3495078 ,\n",
       "       254.91347834, 158.81096422, 228.39661592,  41.59629849,\n",
       "       197.15063154, 262.3449557 ,  44.12975668, 261.50046964,\n",
       "        67.43757206,  20.48414688, 357.09629212, 326.18810216,\n",
       "       309.97396973,  11.70149181, 299.33344532,  57.4726365 ,\n",
       "       141.5834485 , 193.60379007,  -2.48587407,  68.95764697,\n",
       "        95.30561218, 105.77723938,  46.83211209,  23.69319393,\n",
       "       343.07782345,  45.31203717,  35.85379325, 275.18114388,\n",
       "        88.71862088, 194.95496777, 252.71781457, 147.83264538,\n",
       "       324.66802725, 306.59602547, 313.18301677, 288.35512648,\n",
       "       204.24431448, 348.14473984, 187.35459319,  87.53634039,\n",
       "       315.37868054, 304.23146449, 233.63242952, 233.29463509,\n",
       "       150.36610357, 335.30855166, 198.33291203, 256.60245047,\n",
       "       220.45844691,  98.51465922, 205.93328661, 201.54195907,\n",
       "        52.57461733, 299.67123975, 246.29972048, 125.7071105 ,\n",
       "       310.48066137,  89.39420973, 332.43729904, 336.99752379,\n",
       "       132.80079344, 140.90785965, 260.14929194, 177.05186321,\n",
       "       338.85539313, 173.33612452,  44.63644832, 264.20282504,\n",
       "       346.11797328, 120.4712969 , 332.60619625, 189.71915417,\n",
       "        48.85887864,  58.14822535,  89.56310694, 276.19452716,\n",
       "        40.24512079, 162.86449733, 221.97852183, 349.32702033,\n",
       "        14.74164164, 343.41561788,  -8.73507094,  88.21192924,\n",
       "       220.12065249,  48.18328979, 177.22076042,  35.68489604,\n",
       "        54.43248667, 150.02830915,  65.07301108,  36.69827932,\n",
       "        32.13805457, 211.1691002 , 121.31578296, 127.56497984,\n",
       "       107.97290314,  93.44774284,  61.01947797,  37.03607374,\n",
       "       277.88349929,  33.15143785,  60.68168354, 207.79115595,\n",
       "       250.35325359,  43.28527062, 298.82675368, 119.12011919,\n",
       "        62.7084501 , 350.17150639, 235.15250443, 313.5208112 ,\n",
       "       259.47370308, 251.53553408, 280.7547519 , 197.31952875,\n",
       "        79.7670686 , 217.58719429, 202.21754792,  21.66642737,\n",
       "        19.63966082, 165.39795552, 184.48334057,  22.51091344,\n",
       "        95.47450939, 318.41883037,  17.61289426, 137.69881261,\n",
       "        36.86717653,  94.63002333, 342.4022346 , 265.04731111,\n",
       "       335.98414051,  53.5880006 ,  28.42231589,  91.08318186,\n",
       "       158.13537537, 124.01813837, 311.32514743,  13.89715558,\n",
       "        78.41589089, 132.12520458,  47.33880373, 237.01037377,\n",
       "       221.6407274 , 199.85298694, 333.61957953, 110.84415576])"
      ]
     },
     "execution_count": 22,
     "metadata": {},
     "output_type": "execute_result"
    }
   ],
   "source": [
    "pred=reg.predict(x_test)\n",
    "pred"
   ]
  },
  {
   "cell_type": "code",
   "execution_count": 23,
   "id": "f1ecab80",
   "metadata": {},
   "outputs": [],
   "source": [
    "pred2=reg2.predict(x_test2)"
   ]
  },
  {
   "cell_type": "code",
   "execution_count": 24,
   "id": "3be66731",
   "metadata": {},
   "outputs": [],
   "source": [
    "pred3=reg3.predict(x_test3)"
   ]
  },
  {
   "cell_type": "code",
   "execution_count": 25,
   "id": "7b4f9cf8-5c93-4c94-bc9d-63ba31d7e112",
   "metadata": {},
   "outputs": [
    {
     "data": {
      "text/plain": [
       "0.8687654977642258"
      ]
     },
     "execution_count": 25,
     "metadata": {},
     "output_type": "execute_result"
    }
   ],
   "source": [
    "from sklearn.metrics import r2_score\n",
    "r2_score(y_test,pred)"
   ]
  },
  {
   "cell_type": "code",
   "execution_count": 26,
   "id": "3d12661f",
   "metadata": {},
   "outputs": [
    {
     "data": {
      "text/plain": [
       "0.8643247578026054"
      ]
     },
     "execution_count": 26,
     "metadata": {},
     "output_type": "execute_result"
    }
   ],
   "source": [
    "from sklearn.metrics import r2_score\n",
    "r2_score(y_test2,pred2)"
   ]
  },
  {
   "cell_type": "code",
   "execution_count": 27,
   "id": "f8c834f6",
   "metadata": {},
   "outputs": [
    {
     "data": {
      "text/plain": [
       "0.8644500967934103"
      ]
     },
     "execution_count": 27,
     "metadata": {},
     "output_type": "execute_result"
    }
   ],
   "source": [
    "from sklearn.metrics import r2_score\n",
    "r2_score(y_test3,pred3)"
   ]
  },
  {
   "cell_type": "code",
   "execution_count": 28,
   "id": "62af1fd6-da11-4bd8-9e28-77fef1578c58",
   "metadata": {},
   "outputs": [
    {
     "data": {
      "text/plain": [
       "1761.28951759388"
      ]
     },
     "execution_count": 28,
     "metadata": {},
     "output_type": "execute_result"
    }
   ],
   "source": [
    "from sklearn.metrics import mean_squared_error\n",
    "mean_squared_error(y_test,pred)"
   ]
  },
  {
   "cell_type": "code",
   "execution_count": 29,
   "id": "66436b3d-c123-49e1-b661-a9d1a36af518",
   "metadata": {},
   "outputs": [
    {
     "data": {
      "text/html": [
       "<div>\n",
       "<style scoped>\n",
       "    .dataframe tbody tr th:only-of-type {\n",
       "        vertical-align: middle;\n",
       "    }\n",
       "\n",
       "    .dataframe tbody tr th {\n",
       "        vertical-align: top;\n",
       "    }\n",
       "\n",
       "    .dataframe thead th {\n",
       "        text-align: right;\n",
       "    }\n",
       "</style>\n",
       "<table border=\"1\" class=\"dataframe\">\n",
       "  <thead>\n",
       "    <tr style=\"text-align: right;\">\n",
       "      <th></th>\n",
       "      <th>index</th>\n",
       "      <th>Actual</th>\n",
       "      <th>Predicted</th>\n",
       "      <th>Id</th>\n",
       "    </tr>\n",
       "  </thead>\n",
       "  <tbody>\n",
       "    <tr>\n",
       "      <th>0</th>\n",
       "      <td>382</td>\n",
       "      <td>28.080000</td>\n",
       "      <td>55.445870</td>\n",
       "      <td>0</td>\n",
       "    </tr>\n",
       "    <tr>\n",
       "      <th>1</th>\n",
       "      <td>529</td>\n",
       "      <td>26.100000</td>\n",
       "      <td>80.273760</td>\n",
       "      <td>1</td>\n",
       "    </tr>\n",
       "    <tr>\n",
       "      <th>2</th>\n",
       "      <td>1231</td>\n",
       "      <td>244.350006</td>\n",
       "      <td>198.839604</td>\n",
       "      <td>2</td>\n",
       "    </tr>\n",
       "    <tr>\n",
       "      <th>3</th>\n",
       "      <td>211</td>\n",
       "      <td>27.600000</td>\n",
       "      <td>26.564447</td>\n",
       "      <td>3</td>\n",
       "    </tr>\n",
       "    <tr>\n",
       "      <th>4</th>\n",
       "      <td>1393</td>\n",
       "      <td>207.850006</td>\n",
       "      <td>226.200952</td>\n",
       "      <td>4</td>\n",
       "    </tr>\n",
       "  </tbody>\n",
       "</table>\n",
       "</div>"
      ],
      "text/plain": [
       "   index      Actual   Predicted  Id\n",
       "0    382   28.080000   55.445870   0\n",
       "1    529   26.100000   80.273760   1\n",
       "2   1231  244.350006  198.839604   2\n",
       "3    211   27.600000   26.564447   3\n",
       "4   1393  207.850006  226.200952   4"
      ]
     },
     "execution_count": 29,
     "metadata": {},
     "output_type": "execute_result"
    }
   ],
   "source": [
    "results = pd.DataFrame(columns=[\"Actual\",\"Predicted\"])\n",
    "results[\"Actual\"] = y_test\n",
    "results[\"Predicted\"] = pred\n",
    "results=results.reset_index()\n",
    "results['Id']=results.index\n",
    "results.head()"
   ]
  },
  {
   "cell_type": "code",
   "execution_count": 30,
   "id": "eb9d5492-38ca-4dc5-9cc3-55de700a1dd2",
   "metadata": {
    "scrolled": true
   },
   "outputs": [
    {
     "data": {
      "text/plain": [
       "[]"
      ]
     },
     "execution_count": 30,
     "metadata": {},
     "output_type": "execute_result"
    },
    {
     "data": {
      "image/png": "[encoded data removed]",
      "text/plain": [
       "<Figure size 640x480 with 1 Axes>"
      ]
     },
     "metadata": {},
     "output_type": "display_data"
    }
   ],
   "source": [
    "import matplotlib.pyplot as plt\n",
    "sns.lineplot(x='Id',y='Actual',data=results.head(50))\n",
    "sns.lineplot(x='Id',y='Predicted',data=results.head(50))\n",
    "plt.plot()"
   ]
  },
  {
   "cell_type": "code",
   "execution_count": 31,
   "id": "09f8fe4e-553c-4b45-a6ff-39fd436185ee",
   "metadata": {},
   "outputs": [
    {
     "data": {
      "text/html": [
       "<style>#sk-container-id-4 {color: black;}#sk-container-id-4 pre{padding: 0;}#sk-container-id-4 div.sk-toggleable {background-color: white;}#sk-container-id-4 label.sk-toggleable__label {cursor: pointer;display: block;width: 100%;margin-bottom: 0;padding: 0.3em;box-sizing: border-box;text-align: center;}#sk-container-id-4 label.sk-toggleable__label-arrow:before {content: \"▸\";float: left;margin-right: 0.25em;color: #696969;}#sk-container-id-4 label.sk-toggleable__label-arrow:hover:before {color: black;}#sk-container-id-4 div.sk-estimator:hover label.sk-toggleable__label-arrow:before {color: black;}#sk-container-id-4 div.sk-toggleable__content {max-height: 0;max-width: 0;overflow: hidden;text-align: left;background-color: #f0f8ff;}#sk-container-id-4 div.sk-toggleable__content pre {margin: 0.2em;color: black;border-radius: 0.25em;background-color: #f0f8ff;}#sk-container-id-4 input.sk-toggleable__control:checked~div.sk-toggleable__content {max-height: 200px;max-width: 100%;overflow: auto;}#sk-container-id-4 input.sk-toggleable__control:checked~label.sk-toggleable__label-arrow:before {content: \"▾\";}#sk-container-id-4 div.sk-estimator input.sk-toggleable__control:checked~label.sk-toggleable__label {background-color: #d4ebff;}#sk-container-id-4 div.sk-label input.sk-toggleable__control:checked~label.sk-toggleable__label {background-color: #d4ebff;}#sk-container-id-4 input.sk-hidden--visually {border: 0;clip: rect(1px 1px 1px 1px);clip: rect(1px, 1px, 1px, 1px);height: 1px;margin: -1px;overflow: hidden;padding: 0;position: absolute;width: 1px;}#sk-container-id-4 div.sk-estimator {font-family: monospace;background-color: #f0f8ff;border: 1px dotted black;border-radius: 0.25em;box-sizing: border-box;margin-bottom: 0.5em;}#sk-container-id-4 div.sk-estimator:hover {background-color: #d4ebff;}#sk-container-id-4 div.sk-parallel-item::after {content: \"\";width: 100%;border-bottom: 1px solid gray;flex-grow: 1;}#sk-container-id-4 div.sk-label:hover label.sk-toggleable__label {background-color: #d4ebff;}#sk-container-id-4 div.sk-serial::before {content: \"\";position: absolute;border-left: 1px solid gray;box-sizing: border-box;top: 0;bottom: 0;left: 50%;z-index: 0;}#sk-container-id-4 div.sk-serial {display: flex;flex-direction: column;align-items: center;background-color: white;padding-right: 0.2em;padding-left: 0.2em;position: relative;}#sk-container-id-4 div.sk-item {position: relative;z-index: 1;}#sk-container-id-4 div.sk-parallel {display: flex;align-items: stretch;justify-content: center;background-color: white;position: relative;}#sk-container-id-4 div.sk-item::before, #sk-container-id-4 div.sk-parallel-item::before {content: \"\";position: absolute;border-left: 1px solid gray;box-sizing: border-box;top: 0;bottom: 0;left: 50%;z-index: -1;}#sk-container-id-4 div.sk-parallel-item {display: flex;flex-direction: column;z-index: 1;position: relative;background-color: white;}#sk-container-id-4 div.sk-parallel-item:first-child::after {align-self: flex-end;width: 50%;}#sk-container-id-4 div.sk-parallel-item:last-child::after {align-self: flex-start;width: 50%;}#sk-container-id-4 div.sk-parallel-item:only-child::after {width: 0;}#sk-container-id-4 div.sk-dashed-wrapped {border: 1px dashed gray;margin: 0 0.4em 0.5em 0.4em;box-sizing: border-box;padding-bottom: 0.4em;background-color: white;}#sk-container-id-4 div.sk-label label {font-family: monospace;font-weight: bold;display: inline-block;line-height: 1.2em;}#sk-container-id-4 div.sk-label-container {text-align: center;}#sk-container-id-4 div.sk-container {/* jupyter's `normalize.less` sets `[hidden] { display: none; }` but bootstrap.min.css set `[hidden] { display: none !important; }` so we also need the `!important` here to be able to override the default hidden behavior on the sphinx rendered scikit-learn.org. See: https://github.com/scikit-learn/scikit-learn/issues/21755 */display: inline-block !important;position: relative;}#sk-container-id-4 div.sk-text-repr-fallback {display: none;}</style><div id=\"sk-container-id-4\" class=\"sk-top-container\"><div class=\"sk-text-repr-fallback\"><pre>GridSearchCV(estimator=Ridge(),\n",
       "             param_grid={&#x27;alpha&#x27;: [1e-15, 1e-10, 1e-08, 0.0001, 0.001, 0.01, 1,\n",
       "                                   5, 10, 20, 30]})</pre><b>In a Jupyter environment, please rerun this cell to show the HTML representation or trust the notebook. <br />On GitHub, the HTML representation is unable to render, please try loading this page with nbviewer.org.</b></div><div class=\"sk-container\" hidden><div class=\"sk-item sk-dashed-wrapped\"><div class=\"sk-label-container\"><div class=\"sk-label sk-toggleable\"><input class=\"sk-toggleable__control sk-hidden--visually\" id=\"sk-estimator-id-4\" type=\"checkbox\" ><label for=\"sk-estimator-id-4\" class=\"sk-toggleable__label sk-toggleable__label-arrow\">GridSearchCV</label><div class=\"sk-toggleable__content\"><pre>GridSearchCV(estimator=Ridge(),\n",
       "             param_grid={&#x27;alpha&#x27;: [1e-15, 1e-10, 1e-08, 0.0001, 0.001, 0.01, 1,\n",
       "                                   5, 10, 20, 30]})</pre></div></div></div><div class=\"sk-parallel\"><div class=\"sk-parallel-item\"><div class=\"sk-item\"><div class=\"sk-label-container\"><div class=\"sk-label sk-toggleable\"><input class=\"sk-toggleable__control sk-hidden--visually\" id=\"sk-estimator-id-5\" type=\"checkbox\" ><label for=\"sk-estimator-id-5\" class=\"sk-toggleable__label sk-toggleable__label-arrow\">estimator: Ridge</label><div class=\"sk-toggleable__content\"><pre>Ridge()</pre></div></div></div><div class=\"sk-serial\"><div class=\"sk-item\"><div class=\"sk-estimator sk-toggleable\"><input class=\"sk-toggleable__control sk-hidden--visually\" id=\"sk-estimator-id-6\" type=\"checkbox\" ><label for=\"sk-estimator-id-6\" class=\"sk-toggleable__label sk-toggleable__label-arrow\">Ridge</label><div class=\"sk-toggleable__content\"><pre>Ridge()</pre></div></div></div></div></div></div></div></div></div></div>"
      ],
      "text/plain": [
       "GridSearchCV(estimator=Ridge(),\n",
       "             param_grid={'alpha': [1e-15, 1e-10, 1e-08, 0.0001, 0.001, 0.01, 1,\n",
       "                                   5, 10, 20, 30]})"
      ]
     },
     "execution_count": 31,
     "metadata": {},
     "output_type": "execute_result"
    }
   ],
   "source": [
    "from sklearn.model_selection import GridSearchCV\n",
    "from sklearn.linear_model import Ridge\n",
    "alpha = [1e-15, 1e-10, 1e-8, 1e-4, 1e-3,1e-2, 1, 5, 10, 20,30]\n",
    "ridge = Ridge()\n",
    "parameters={'alpha':alpha}\n",
    "ridge_regressor = GridSearchCV(ridge,parameters)\n",
    "ridge_regressor.fit(x_train,y_train)"
   ]
  },
  {
   "cell_type": "code",
   "execution_count": 32,
   "id": "4a1ceda8-f9a8-4ff2-be7f-9ca9d4d0f2c2",
   "metadata": {},
   "outputs": [
    {
     "data": {
      "text/plain": [
       "{'alpha': 30}"
      ]
     },
     "execution_count": 32,
     "metadata": {},
     "output_type": "execute_result"
    }
   ],
   "source": [
    "ridge_regressor.best_params_"
   ]
  },
  {
   "cell_type": "code",
   "execution_count": 33,
   "id": "e8c8d999-cbcd-46c8-96a3-f552d12e74d8",
   "metadata": {},
   "outputs": [],
   "source": [
    "ridge=Ridge(alpha=30)\n",
    "ridge.fit(x_train,y_train)\n",
    "y_pred_ridge=ridge.predict(x_test)"
   ]
  },
  {
   "cell_type": "code",
   "execution_count": 34,
   "id": "2bdab692",
   "metadata": {},
   "outputs": [],
   "source": [
    "ridge2=Ridge(alpha=30)\n",
    "ridge2.fit(x_train2,y_train2)\n",
    "y_pred_ridge2=ridge.predict(x_test2)"
   ]
  },
  {
   "cell_type": "code",
   "execution_count": 35,
   "id": "d818548f",
   "metadata": {},
   "outputs": [],
   "source": [
    "ridge3=Ridge(alpha=30)\n",
    "ridge3.fit(x_train3,y_train3)\n",
    "y_pred_ridge3=ridge.predict(x_test3)"
   ]
  },
  {
   "cell_type": "code",
   "execution_count": 36,
   "id": "554a4855-1647-4804-ab66-c83dc94a51da",
   "metadata": {},
   "outputs": [
    {
     "data": {
      "text/plain": [
       "1761.2895350328229"
      ]
     },
     "execution_count": 36,
     "metadata": {},
     "output_type": "execute_result"
    }
   ],
   "source": [
    "from sklearn.metrics import mean_squared_error\n",
    "ridge_error = mean_squared_error(y_pred_ridge,y_test)\n",
    "ridge_error"
   ]
  },
  {
   "cell_type": "code",
   "execution_count": 37,
   "id": "de8a7419-edf8-440c-87fe-824122ea1d58",
   "metadata": {},
   "outputs": [
    {
     "data": {
      "text/plain": [
       "0.8446135156858201"
      ]
     },
     "execution_count": 37,
     "metadata": {},
     "output_type": "execute_result"
    }
   ],
   "source": [
    "from sklearn.metrics import r2_score\n",
    "r2_score(y_pred_ridge,y_test)"
   ]
  },
  {
   "cell_type": "code",
   "execution_count": 38,
   "id": "28bf1672",
   "metadata": {},
   "outputs": [
    {
     "data": {
      "text/plain": [
       "0.8400914078709029"
      ]
     },
     "execution_count": 38,
     "metadata": {},
     "output_type": "execute_result"
    }
   ],
   "source": [
    "from sklearn.metrics import r2_score\n",
    "r2_score(y_pred_ridge2,y_test2)"
   ]
  },
  {
   "cell_type": "code",
   "execution_count": 39,
   "id": "6e61733a",
   "metadata": {},
   "outputs": [
    {
     "data": {
      "text/plain": [
       "0.8395535411615351"
      ]
     },
     "execution_count": 39,
     "metadata": {},
     "output_type": "execute_result"
    }
   ],
   "source": [
    "from sklearn.metrics import r2_score\n",
    "r2_score(y_pred_ridge3,y_test3)"
   ]
  },
  {
   "cell_type": "code",
   "execution_count": 40,
   "id": "70cd74bf-72e2-428e-9e1e-19add224f837",
   "metadata": {},
   "outputs": [
    {
     "data": {
      "text/html": [
       "<div>\n",
       "<style scoped>\n",
       "    .dataframe tbody tr th:only-of-type {\n",
       "        vertical-align: middle;\n",
       "    }\n",
       "\n",
       "    .dataframe tbody tr th {\n",
       "        vertical-align: top;\n",
       "    }\n",
       "\n",
       "    .dataframe thead th {\n",
       "        text-align: right;\n",
       "    }\n",
       "</style>\n",
       "<table border=\"1\" class=\"dataframe\">\n",
       "  <thead>\n",
       "    <tr style=\"text-align: right;\">\n",
       "      <th></th>\n",
       "      <th>index</th>\n",
       "      <th>Actual</th>\n",
       "      <th>Predicted</th>\n",
       "      <th>Id</th>\n",
       "    </tr>\n",
       "  </thead>\n",
       "  <tbody>\n",
       "    <tr>\n",
       "      <th>0</th>\n",
       "      <td>382</td>\n",
       "      <td>28.080000</td>\n",
       "      <td>55.445876</td>\n",
       "      <td>0</td>\n",
       "    </tr>\n",
       "    <tr>\n",
       "      <th>1</th>\n",
       "      <td>529</td>\n",
       "      <td>26.100000</td>\n",
       "      <td>80.273765</td>\n",
       "      <td>1</td>\n",
       "    </tr>\n",
       "    <tr>\n",
       "      <th>2</th>\n",
       "      <td>1231</td>\n",
       "      <td>244.350006</td>\n",
       "      <td>198.839603</td>\n",
       "      <td>2</td>\n",
       "    </tr>\n",
       "    <tr>\n",
       "      <th>3</th>\n",
       "      <td>211</td>\n",
       "      <td>27.600000</td>\n",
       "      <td>26.564454</td>\n",
       "      <td>3</td>\n",
       "    </tr>\n",
       "    <tr>\n",
       "      <th>4</th>\n",
       "      <td>1393</td>\n",
       "      <td>207.850006</td>\n",
       "      <td>226.200950</td>\n",
       "      <td>4</td>\n",
       "    </tr>\n",
       "    <tr>\n",
       "      <th>5</th>\n",
       "      <td>904</td>\n",
       "      <td>181.410004</td>\n",
       "      <td>143.610217</td>\n",
       "      <td>5</td>\n",
       "    </tr>\n",
       "    <tr>\n",
       "      <th>6</th>\n",
       "      <td>361</td>\n",
       "      <td>32.599998</td>\n",
       "      <td>51.899035</td>\n",
       "      <td>6</td>\n",
       "    </tr>\n",
       "    <tr>\n",
       "      <th>7</th>\n",
       "      <td>282</td>\n",
       "      <td>23.820000</td>\n",
       "      <td>38.556156</td>\n",
       "      <td>7</td>\n",
       "    </tr>\n",
       "    <tr>\n",
       "      <th>8</th>\n",
       "      <td>168</td>\n",
       "      <td>23.889999</td>\n",
       "      <td>19.301874</td>\n",
       "      <td>8</td>\n",
       "    </tr>\n",
       "    <tr>\n",
       "      <th>9</th>\n",
       "      <td>100</td>\n",
       "      <td>29.889999</td>\n",
       "      <td>7.816865</td>\n",
       "      <td>9</td>\n",
       "    </tr>\n",
       "  </tbody>\n",
       "</table>\n",
       "</div>"
      ],
      "text/plain": [
       "   index      Actual   Predicted  Id\n",
       "0    382   28.080000   55.445876   0\n",
       "1    529   26.100000   80.273765   1\n",
       "2   1231  244.350006  198.839603   2\n",
       "3    211   27.600000   26.564454   3\n",
       "4   1393  207.850006  226.200950   4\n",
       "5    904  181.410004  143.610217   5\n",
       "6    361   32.599998   51.899035   6\n",
       "7    282   23.820000   38.556156   7\n",
       "8    168   23.889999   19.301874   8\n",
       "9    100   29.889999    7.816865   9"
      ]
     },
     "execution_count": 40,
     "metadata": {},
     "output_type": "execute_result"
    }
   ],
   "source": [
    "Results= pd.DataFrame(columns=['Actual','Predicted'])\n",
    "Results['Actual']=y_test\n",
    "Results['Predicted']=y_pred_ridge\n",
    "Results=Results.reset_index()\n",
    "Results['Id']=Results.index\n",
    "Results.head(10)"
   ]
  },
  {
   "cell_type": "code",
   "execution_count": 41,
   "id": "2055fc54-63b9-4c5f-945c-e03795351fee",
   "metadata": {},
   "outputs": [
    {
     "data": {
      "text/plain": [
       "[]"
      ]
     },
     "execution_count": 41,
     "metadata": {},
     "output_type": "execute_result"
    },
    {
     "data": {
      "image/png": "[encoded data removed]",
      "text/plain": [
       "<Figure size 640x480 with 1 Axes>"
      ]
     },
     "metadata": {},
     "output_type": "display_data"
    }
   ],
   "source": [
    "sns.lineplot(x='Id',y='Actual',data=Results.head(50))\n",
    "sns.lineplot(x='Id',y='Predicted',data=Results.head(50))\n",
    "plt.plot()"
   ]
  },
  {
   "cell_type": "code",
   "execution_count": 42,
   "id": "e0085e85-1a54-40b5-8214-92882d7ce00b",
   "metadata": {},
   "outputs": [
    {
     "data": {
      "text/html": [
       "<style>#sk-container-id-5 {color: black;}#sk-container-id-5 pre{padding: 0;}#sk-container-id-5 div.sk-toggleable {background-color: white;}#sk-container-id-5 label.sk-toggleable__label {cursor: pointer;display: block;width: 100%;margin-bottom: 0;padding: 0.3em;box-sizing: border-box;text-align: center;}#sk-container-id-5 label.sk-toggleable__label-arrow:before {content: \"▸\";float: left;margin-right: 0.25em;color: #696969;}#sk-container-id-5 label.sk-toggleable__label-arrow:hover:before {color: black;}#sk-container-id-5 div.sk-estimator:hover label.sk-toggleable__label-arrow:before {color: black;}#sk-container-id-5 div.sk-toggleable__content {max-height: 0;max-width: 0;overflow: hidden;text-align: left;background-color: #f0f8ff;}#sk-container-id-5 div.sk-toggleable__content pre {margin: 0.2em;color: black;border-radius: 0.25em;background-color: #f0f8ff;}#sk-container-id-5 input.sk-toggleable__control:checked~div.sk-toggleable__content {max-height: 200px;max-width: 100%;overflow: auto;}#sk-container-id-5 input.sk-toggleable__control:checked~label.sk-toggleable__label-arrow:before {content: \"▾\";}#sk-container-id-5 div.sk-estimator input.sk-toggleable__control:checked~label.sk-toggleable__label {background-color: #d4ebff;}#sk-container-id-5 div.sk-label input.sk-toggleable__control:checked~label.sk-toggleable__label {background-color: #d4ebff;}#sk-container-id-5 input.sk-hidden--visually {border: 0;clip: rect(1px 1px 1px 1px);clip: rect(1px, 1px, 1px, 1px);height: 1px;margin: -1px;overflow: hidden;padding: 0;position: absolute;width: 1px;}#sk-container-id-5 div.sk-estimator {font-family: monospace;background-color: #f0f8ff;border: 1px dotted black;border-radius: 0.25em;box-sizing: border-box;margin-bottom: 0.5em;}#sk-container-id-5 div.sk-estimator:hover {background-color: #d4ebff;}#sk-container-id-5 div.sk-parallel-item::after {content: \"\";width: 100%;border-bottom: 1px solid gray;flex-grow: 1;}#sk-container-id-5 div.sk-label:hover label.sk-toggleable__label {background-color: #d4ebff;}#sk-container-id-5 div.sk-serial::before {content: \"\";position: absolute;border-left: 1px solid gray;box-sizing: border-box;top: 0;bottom: 0;left: 50%;z-index: 0;}#sk-container-id-5 div.sk-serial {display: flex;flex-direction: column;align-items: center;background-color: white;padding-right: 0.2em;padding-left: 0.2em;position: relative;}#sk-container-id-5 div.sk-item {position: relative;z-index: 1;}#sk-container-id-5 div.sk-parallel {display: flex;align-items: stretch;justify-content: center;background-color: white;position: relative;}#sk-container-id-5 div.sk-item::before, #sk-container-id-5 div.sk-parallel-item::before {content: \"\";position: absolute;border-left: 1px solid gray;box-sizing: border-box;top: 0;bottom: 0;left: 50%;z-index: -1;}#sk-container-id-5 div.sk-parallel-item {display: flex;flex-direction: column;z-index: 1;position: relative;background-color: white;}#sk-container-id-5 div.sk-parallel-item:first-child::after {align-self: flex-end;width: 50%;}#sk-container-id-5 div.sk-parallel-item:last-child::after {align-self: flex-start;width: 50%;}#sk-container-id-5 div.sk-parallel-item:only-child::after {width: 0;}#sk-container-id-5 div.sk-dashed-wrapped {border: 1px dashed gray;margin: 0 0.4em 0.5em 0.4em;box-sizing: border-box;padding-bottom: 0.4em;background-color: white;}#sk-container-id-5 div.sk-label label {font-family: monospace;font-weight: bold;display: inline-block;line-height: 1.2em;}#sk-container-id-5 div.sk-label-container {text-align: center;}#sk-container-id-5 div.sk-container {/* jupyter's `normalize.less` sets `[hidden] { display: none; }` but bootstrap.min.css set `[hidden] { display: none !important; }` so we also need the `!important` here to be able to override the default hidden behavior on the sphinx rendered scikit-learn.org. See: https://github.com/scikit-learn/scikit-learn/issues/21755 */display: inline-block !important;position: relative;}#sk-container-id-5 div.sk-text-repr-fallback {display: none;}</style><div id=\"sk-container-id-5\" class=\"sk-top-container\"><div class=\"sk-text-repr-fallback\"><pre>RandomForestRegressor(n_estimators=1000, random_state=42)</pre><b>In a Jupyter environment, please rerun this cell to show the HTML representation or trust the notebook. <br />On GitHub, the HTML representation is unable to render, please try loading this page with nbviewer.org.</b></div><div class=\"sk-container\" hidden><div class=\"sk-item\"><div class=\"sk-estimator sk-toggleable\"><input class=\"sk-toggleable__control sk-hidden--visually\" id=\"sk-estimator-id-7\" type=\"checkbox\" checked><label for=\"sk-estimator-id-7\" class=\"sk-toggleable__label sk-toggleable__label-arrow\">RandomForestRegressor</label><div class=\"sk-toggleable__content\"><pre>RandomForestRegressor(n_estimators=1000, random_state=42)</pre></div></div></div></div></div>"
      ],
      "text/plain": [
       "RandomForestRegressor(n_estimators=1000, random_state=42)"
      ]
     },
     "execution_count": 42,
     "metadata": {},
     "output_type": "execute_result"
    }
   ],
   "source": [
    "from sklearn.ensemble import RandomForestRegressor\n",
    "rf=RandomForestRegressor(n_estimators=1000,random_state=42)\n",
    "rf.fit(x_train,y_train)"
   ]
  },
  {
   "cell_type": "code",
   "execution_count": 43,
   "id": "0bc030ed",
   "metadata": {},
   "outputs": [
    {
     "data": {
      "text/html": [
       "<style>#sk-container-id-6 {color: black;}#sk-container-id-6 pre{padding: 0;}#sk-container-id-6 div.sk-toggleable {background-color: white;}#sk-container-id-6 label.sk-toggleable__label {cursor: pointer;display: block;width: 100%;margin-bottom: 0;padding: 0.3em;box-sizing: border-box;text-align: center;}#sk-container-id-6 label.sk-toggleable__label-arrow:before {content: \"▸\";float: left;margin-right: 0.25em;color: #696969;}#sk-container-id-6 label.sk-toggleable__label-arrow:hover:before {color: black;}#sk-container-id-6 div.sk-estimator:hover label.sk-toggleable__label-arrow:before {color: black;}#sk-container-id-6 div.sk-toggleable__content {max-height: 0;max-width: 0;overflow: hidden;text-align: left;background-color: #f0f8ff;}#sk-container-id-6 div.sk-toggleable__content pre {margin: 0.2em;color: black;border-radius: 0.25em;background-color: #f0f8ff;}#sk-container-id-6 input.sk-toggleable__control:checked~div.sk-toggleable__content {max-height: 200px;max-width: 100%;overflow: auto;}#sk-container-id-6 input.sk-toggleable__control:checked~label.sk-toggleable__label-arrow:before {content: \"▾\";}#sk-container-id-6 div.sk-estimator input.sk-toggleable__control:checked~label.sk-toggleable__label {background-color: #d4ebff;}#sk-container-id-6 div.sk-label input.sk-toggleable__control:checked~label.sk-toggleable__label {background-color: #d4ebff;}#sk-container-id-6 input.sk-hidden--visually {border: 0;clip: rect(1px 1px 1px 1px);clip: rect(1px, 1px, 1px, 1px);height: 1px;margin: -1px;overflow: hidden;padding: 0;position: absolute;width: 1px;}#sk-container-id-6 div.sk-estimator {font-family: monospace;background-color: #f0f8ff;border: 1px dotted black;border-radius: 0.25em;box-sizing: border-box;margin-bottom: 0.5em;}#sk-container-id-6 div.sk-estimator:hover {background-color: #d4ebff;}#sk-container-id-6 div.sk-parallel-item::after {content: \"\";width: 100%;border-bottom: 1px solid gray;flex-grow: 1;}#sk-container-id-6 div.sk-label:hover label.sk-toggleable__label {background-color: #d4ebff;}#sk-container-id-6 div.sk-serial::before {content: \"\";position: absolute;border-left: 1px solid gray;box-sizing: border-box;top: 0;bottom: 0;left: 50%;z-index: 0;}#sk-container-id-6 div.sk-serial {display: flex;flex-direction: column;align-items: center;background-color: white;padding-right: 0.2em;padding-left: 0.2em;position: relative;}#sk-container-id-6 div.sk-item {position: relative;z-index: 1;}#sk-container-id-6 div.sk-parallel {display: flex;align-items: stretch;justify-content: center;background-color: white;position: relative;}#sk-container-id-6 div.sk-item::before, #sk-container-id-6 div.sk-parallel-item::before {content: \"\";position: absolute;border-left: 1px solid gray;box-sizing: border-box;top: 0;bottom: 0;left: 50%;z-index: -1;}#sk-container-id-6 div.sk-parallel-item {display: flex;flex-direction: column;z-index: 1;position: relative;background-color: white;}#sk-container-id-6 div.sk-parallel-item:first-child::after {align-self: flex-end;width: 50%;}#sk-container-id-6 div.sk-parallel-item:last-child::after {align-self: flex-start;width: 50%;}#sk-container-id-6 div.sk-parallel-item:only-child::after {width: 0;}#sk-container-id-6 div.sk-dashed-wrapped {border: 1px dashed gray;margin: 0 0.4em 0.5em 0.4em;box-sizing: border-box;padding-bottom: 0.4em;background-color: white;}#sk-container-id-6 div.sk-label label {font-family: monospace;font-weight: bold;display: inline-block;line-height: 1.2em;}#sk-container-id-6 div.sk-label-container {text-align: center;}#sk-container-id-6 div.sk-container {/* jupyter's `normalize.less` sets `[hidden] { display: none; }` but bootstrap.min.css set `[hidden] { display: none !important; }` so we also need the `!important` here to be able to override the default hidden behavior on the sphinx rendered scikit-learn.org. See: https://github.com/scikit-learn/scikit-learn/issues/21755 */display: inline-block !important;position: relative;}#sk-container-id-6 div.sk-text-repr-fallback {display: none;}</style><div id=\"sk-container-id-6\" class=\"sk-top-container\"><div class=\"sk-text-repr-fallback\"><pre>RandomForestRegressor(n_estimators=1000, random_state=42)</pre><b>In a Jupyter environment, please rerun this cell to show the HTML representation or trust the notebook. <br />On GitHub, the HTML representation is unable to render, please try loading this page with nbviewer.org.</b></div><div class=\"sk-container\" hidden><div class=\"sk-item\"><div class=\"sk-estimator sk-toggleable\"><input class=\"sk-toggleable__control sk-hidden--visually\" id=\"sk-estimator-id-8\" type=\"checkbox\" checked><label for=\"sk-estimator-id-8\" class=\"sk-toggleable__label sk-toggleable__label-arrow\">RandomForestRegressor</label><div class=\"sk-toggleable__content\"><pre>RandomForestRegressor(n_estimators=1000, random_state=42)</pre></div></div></div></div></div>"
      ],
      "text/plain": [
       "RandomForestRegressor(n_estimators=1000, random_state=42)"
      ]
     },
     "execution_count": 43,
     "metadata": {},
     "output_type": "execute_result"
    }
   ],
   "source": [
    "rf2=RandomForestRegressor(n_estimators=1000,random_state=42)\n",
    "rf2.fit(x_train2,y_train2)"
   ]
  },
  {
   "cell_type": "code",
   "execution_count": 44,
   "id": "740d0d8b",
   "metadata": {},
   "outputs": [
    {
     "data": {
      "text/html": [
       "<style>#sk-container-id-7 {color: black;}#sk-container-id-7 pre{padding: 0;}#sk-container-id-7 div.sk-toggleable {background-color: white;}#sk-container-id-7 label.sk-toggleable__label {cursor: pointer;display: block;width: 100%;margin-bottom: 0;padding: 0.3em;box-sizing: border-box;text-align: center;}#sk-container-id-7 label.sk-toggleable__label-arrow:before {content: \"▸\";float: left;margin-right: 0.25em;color: #696969;}#sk-container-id-7 label.sk-toggleable__label-arrow:hover:before {color: black;}#sk-container-id-7 div.sk-estimator:hover label.sk-toggleable__label-arrow:before {color: black;}#sk-container-id-7 div.sk-toggleable__content {max-height: 0;max-width: 0;overflow: hidden;text-align: left;background-color: #f0f8ff;}#sk-container-id-7 div.sk-toggleable__content pre {margin: 0.2em;color: black;border-radius: 0.25em;background-color: #f0f8ff;}#sk-container-id-7 input.sk-toggleable__control:checked~div.sk-toggleable__content {max-height: 200px;max-width: 100%;overflow: auto;}#sk-container-id-7 input.sk-toggleable__control:checked~label.sk-toggleable__label-arrow:before {content: \"▾\";}#sk-container-id-7 div.sk-estimator input.sk-toggleable__control:checked~label.sk-toggleable__label {background-color: #d4ebff;}#sk-container-id-7 div.sk-label input.sk-toggleable__control:checked~label.sk-toggleable__label {background-color: #d4ebff;}#sk-container-id-7 input.sk-hidden--visually {border: 0;clip: rect(1px 1px 1px 1px);clip: rect(1px, 1px, 1px, 1px);height: 1px;margin: -1px;overflow: hidden;padding: 0;position: absolute;width: 1px;}#sk-container-id-7 div.sk-estimator {font-family: monospace;background-color: #f0f8ff;border: 1px dotted black;border-radius: 0.25em;box-sizing: border-box;margin-bottom: 0.5em;}#sk-container-id-7 div.sk-estimator:hover {background-color: #d4ebff;}#sk-container-id-7 div.sk-parallel-item::after {content: \"\";width: 100%;border-bottom: 1px solid gray;flex-grow: 1;}#sk-container-id-7 div.sk-label:hover label.sk-toggleable__label {background-color: #d4ebff;}#sk-container-id-7 div.sk-serial::before {content: \"\";position: absolute;border-left: 1px solid gray;box-sizing: border-box;top: 0;bottom: 0;left: 50%;z-index: 0;}#sk-container-id-7 div.sk-serial {display: flex;flex-direction: column;align-items: center;background-color: white;padding-right: 0.2em;padding-left: 0.2em;position: relative;}#sk-container-id-7 div.sk-item {position: relative;z-index: 1;}#sk-container-id-7 div.sk-parallel {display: flex;align-items: stretch;justify-content: center;background-color: white;position: relative;}#sk-container-id-7 div.sk-item::before, #sk-container-id-7 div.sk-parallel-item::before {content: \"\";position: absolute;border-left: 1px solid gray;box-sizing: border-box;top: 0;bottom: 0;left: 50%;z-index: -1;}#sk-container-id-7 div.sk-parallel-item {display: flex;flex-direction: column;z-index: 1;position: relative;background-color: white;}#sk-container-id-7 div.sk-parallel-item:first-child::after {align-self: flex-end;width: 50%;}#sk-container-id-7 div.sk-parallel-item:last-child::after {align-self: flex-start;width: 50%;}#sk-container-id-7 div.sk-parallel-item:only-child::after {width: 0;}#sk-container-id-7 div.sk-dashed-wrapped {border: 1px dashed gray;margin: 0 0.4em 0.5em 0.4em;box-sizing: border-box;padding-bottom: 0.4em;background-color: white;}#sk-container-id-7 div.sk-label label {font-family: monospace;font-weight: bold;display: inline-block;line-height: 1.2em;}#sk-container-id-7 div.sk-label-container {text-align: center;}#sk-container-id-7 div.sk-container {/* jupyter's `normalize.less` sets `[hidden] { display: none; }` but bootstrap.min.css set `[hidden] { display: none !important; }` so we also need the `!important` here to be able to override the default hidden behavior on the sphinx rendered scikit-learn.org. See: https://github.com/scikit-learn/scikit-learn/issues/21755 */display: inline-block !important;position: relative;}#sk-container-id-7 div.sk-text-repr-fallback {display: none;}</style><div id=\"sk-container-id-7\" class=\"sk-top-container\"><div class=\"sk-text-repr-fallback\"><pre>RandomForestRegressor(n_estimators=1000, random_state=42)</pre><b>In a Jupyter environment, please rerun this cell to show the HTML representation or trust the notebook. <br />On GitHub, the HTML representation is unable to render, please try loading this page with nbviewer.org.</b></div><div class=\"sk-container\" hidden><div class=\"sk-item\"><div class=\"sk-estimator sk-toggleable\"><input class=\"sk-toggleable__control sk-hidden--visually\" id=\"sk-estimator-id-9\" type=\"checkbox\" checked><label for=\"sk-estimator-id-9\" class=\"sk-toggleable__label sk-toggleable__label-arrow\">RandomForestRegressor</label><div class=\"sk-toggleable__content\"><pre>RandomForestRegressor(n_estimators=1000, random_state=42)</pre></div></div></div></div></div>"
      ],
      "text/plain": [
       "RandomForestRegressor(n_estimators=1000, random_state=42)"
      ]
     },
     "execution_count": 44,
     "metadata": {},
     "output_type": "execute_result"
    }
   ],
   "source": [
    "rf3=RandomForestRegressor(n_estimators=1000,random_state=42)\n",
    "rf3.fit(x_train3,y_train3)"
   ]
  },
  {
   "cell_type": "code",
   "execution_count": 45,
   "id": "34eb2d1d-3ebc-4aec-9b70-f38665984023",
   "metadata": {},
   "outputs": [],
   "source": [
    "RF_pred=rf.predict(x_test)\n",
    "errors=abs(RF_pred-y_test)"
   ]
  },
  {
   "cell_type": "code",
   "execution_count": 46,
   "id": "3bb8d3a3",
   "metadata": {},
   "outputs": [],
   "source": [
    "RF_pred2=rf2.predict(x_test2)\n",
    "errors2=abs(RF_pred2-y_test2)"
   ]
  },
  {
   "cell_type": "code",
   "execution_count": 47,
   "id": "cb6c6b62",
   "metadata": {},
   "outputs": [],
   "source": [
    "RF_pred3=rf3.predict(x_test3)\n",
    "errors3=abs(RF_pred3-y_test3)"
   ]
  },
  {
   "cell_type": "code",
   "execution_count": 48,
   "id": "7c0fcf4a-e7dd-47dd-9bbe-0846b18c720e",
   "metadata": {},
   "outputs": [
    {
     "data": {
      "text/plain": [
       "array([ 28.24416025,  28.63593998, 246.97887827,  26.8559407 ,\n",
       "       212.78580769, 176.4420292 ,  32.82823096,  25.03148905,\n",
       "        23.54303097,  30.94231015,  31.7039696 ,  19.45616004,\n",
       "       208.08802871, 356.28696327, 252.22327174, 297.90842384,\n",
       "       301.99235256, 321.95615699, 198.33563278, 218.18280517,\n",
       "       218.50039212,  34.45952132, 278.36930914,  46.06379108,\n",
       "       289.57140858,  98.69531206, 240.92327073, 214.01258045,\n",
       "        28.76814999,  29.10904985, 114.58217178,  24.99397978,\n",
       "       206.26566409,  24.04591003, 196.77335673, 202.1509914 ,\n",
       "        31.23982026, 224.6655251 , 172.19154054, 226.28174034,\n",
       "       230.03311761,  33.61418936, 122.69586732, 102.62196926,\n",
       "       260.19370039, 183.27445134, 205.61222307,  36.07716056,\n",
       "        27.47150936,  36.28198154, 197.97942027, 222.96349771,\n",
       "       309.71865014, 205.52101736,  34.33849968, 229.37113692,\n",
       "       347.66492373, 216.39146213, 301.36619737,  28.07137928,\n",
       "        27.19665019, 344.26214043,  28.72319049, 115.16023985,\n",
       "        33.09435041, 311.1977871 ,  32.25518945, 320.29678845,\n",
       "       230.21578056,  23.71049944, 341.22021127,  27.73432008,\n",
       "       125.01966764, 241.78012271, 206.34491705, 204.33544619,\n",
       "        34.06822927, 191.02712518, 228.4530383 , 150.96807758,\n",
       "        20.36463022, 188.91288017, 162.11946041, 151.43042203,\n",
       "       148.65372796, 247.76710435, 198.99332037,  33.06672038,\n",
       "        35.06440114,  26.35497   , 324.04537133, 377.41633395,\n",
       "        28.08724942, 345.48035109, 357.81383423,  32.96493862,\n",
       "       311.45812701, 222.2622078 ,  20.83300065,  34.42868116,\n",
       "       209.92047751,  53.8338893 , 210.16742805, 230.48990419,\n",
       "       230.06257814, 164.47993118,  23.15835992, 302.3923282 ,\n",
       "        31.9218003 , 263.67721185, 209.87479323, 183.00927137,\n",
       "        23.53655034,  33.767169  ,  32.02602032, 277.88030039,\n",
       "        20.83671027,  30.62285944, 265.31833573, 247.58397598,\n",
       "       315.78985981, 190.98546478, 282.65414887, 346.01353998,\n",
       "       250.54652959,  36.09593992,  38.02223036, 283.76721479,\n",
       "       184.58797931, 227.09016319, 209.79789335, 212.3431175 ,\n",
       "       258.64478333, 275.58153978, 250.35317294,  29.43761929,\n",
       "        22.67305991,  29.56839024, 248.29356351,  31.68999934,\n",
       "        59.72265924,  31.85677971, 312.48608351,  37.17445947,\n",
       "        27.48622909, 300.65698257,  28.47969068,  31.32845062,\n",
       "       354.27704707,  30.83235041, 239.44688187, 254.36799906,\n",
       "        28.11724024,  33.78496848,  24.05015928,  24.55287991,\n",
       "        27.28277979, 226.62273703, 183.06355122, 362.80015974,\n",
       "       261.57145095,  29.98803053,  20.76137927, 300.65606698,\n",
       "       321.30819031, 280.3839758 , 271.761544  ,  28.01113049,\n",
       "        27.61669968,  29.71677934, 230.7330558 ,  34.62431068,\n",
       "       100.24980055, 320.27010536, 213.60439894, 311.29066124,\n",
       "        27.45762001, 141.85332927, 260.76960386,  42.65364973,\n",
       "       277.9911884 ,  24.22827958, 345.12558841, 337.94829465,\n",
       "        23.58125941, 243.14133315,  29.55614977, 349.04518715,\n",
       "        24.35183944,  32.74449012, 234.93059319,  27.73012997,\n",
       "       251.41356965,  23.63368991, 310.16189824, 121.86894783,\n",
       "       223.31637713, 222.48618463, 190.18061443, 191.5850339 ,\n",
       "       311.67029948, 244.66876915, 317.51263205, 252.20919583,\n",
       "       191.72000929, 250.49462498, 237.35548513,  30.52156923,\n",
       "        35.75843068, 176.16761474, 248.02057034,  21.05268034,\n",
       "        27.56997012,  34.02153054, 291.10420879, 284.35708268,\n",
       "       253.20521476,  28.4565092 , 202.97794698,  35.4428408 ,\n",
       "       266.34549566,  28.49513932, 317.34231761, 306.10711592,\n",
       "       121.9523699 ,  29.68085076, 223.3029353 , 191.22970542,\n",
       "       162.81537916, 245.90397554, 291.07752345, 225.15321294,\n",
       "       237.9837906 , 317.32620016,  19.96091074, 200.40477205,\n",
       "       257.92984477, 201.52915418, 355.00748742,  26.83657992,\n",
       "       257.31290908, 216.23262371, 372.2932733 , 179.67961337,\n",
       "       296.69243626, 326.89029691,  29.05584915, 243.38921713,\n",
       "        20.92593063, 349.03246498, 245.21657794, 207.38666412,\n",
       "       216.02607063,  28.46552966,  26.41382973,  29.28613987,\n",
       "       331.20582502,  28.58727997, 229.51087786, 346.39850228,\n",
       "       311.25802095,  27.65398069,  30.22105981, 140.83881824,\n",
       "       191.76226249, 219.23141728,  29.19316022, 210.01877312,\n",
       "       149.61707927, 216.58415959, 193.01968386,  27.2725189 ,\n",
       "       361.93972671,  22.54495991,  29.27161061, 326.0039147 ,\n",
       "        21.4808201 , 276.91908781, 211.20312592, 333.36277646,\n",
       "       334.74100324, 335.90678266, 229.84291937, 319.09659006,\n",
       "       194.04560378, 198.23908688, 305.64710959,  29.51038041,\n",
       "        34.19600926, 315.29097581,  26.79542096, 291.85894171,\n",
       "        34.45928138, 216.04791707, 231.06118369, 231.17768258,\n",
       "       225.6632725 , 229.21765834,  29.31466022, 332.94348812,\n",
       "        26.79680988, 145.2803194 ,  23.82265012, 330.30304325,\n",
       "        41.62078979, 321.18396544,  27.20389976, 190.64835497,\n",
       "        28.49315076, 245.2741269 , 244.98328888, 223.76475393,\n",
       "        33.75231911, 216.45685518, 123.33191008, 282.28840566,\n",
       "       344.03217597,  28.59195063,  20.48091902, 180.54613264,\n",
       "        24.17051949, 237.30668962, 374.57478365,  28.41787963,\n",
       "       329.13875025,  35.00900043, 138.25867908, 146.77006212,\n",
       "       207.62072159, 240.49833182,  28.06248058, 250.98251874,\n",
       "       351.30418814, 301.04114767, 172.38435509, 221.65603231,\n",
       "       220.88371347, 232.86722012,  30.43996999, 319.9472479 ,\n",
       "        32.81690936, 230.53804561, 342.97383981,  24.62723055,\n",
       "       245.95637421,  35.07476116, 228.15315111,  31.50394852,\n",
       "        33.59826019, 198.14619189,  27.23195064, 353.67379022,\n",
       "       210.27980075, 345.69492219,  31.56902909,  20.60669009,\n",
       "        29.08992995, 345.49528206, 363.80042067, 299.58336209,\n",
       "       350.63732621,  32.21802008, 218.67884303, 195.06171604,\n",
       "       151.54784887, 231.80792834,  74.93345174, 208.63712172,\n",
       "       212.8684953 , 250.52211304, 204.73093662, 200.06582763,\n",
       "       213.08310145, 232.50636096,  23.90030997,  36.7570698 ,\n",
       "        32.51958847, 109.29310015,  34.52921988, 308.84590027,\n",
       "       286.96056903, 257.3034003 , 304.33679953, 253.99474104,\n",
       "       206.99818685, 205.78247481, 335.0302638 , 208.07334084,\n",
       "       196.75876094, 223.02440862,  30.00621004, 252.87718067,\n",
       "       261.07730981,  20.81184057,  37.64734857, 299.42824177,\n",
       "       249.24459354, 262.18251178, 246.71753798, 229.81428426,\n",
       "       219.20456011, 307.77037189, 242.57471863, 224.06127665,\n",
       "       290.2298224 , 220.2154126 , 291.37451741,  25.67012991,\n",
       "       253.14973081,  34.12255974, 253.16594649, 304.32822365,\n",
       "       334.82657585, 279.3452574 , 169.52962612,  27.71712992,\n",
       "        20.44622089, 328.82573141, 279.68668691,  28.28638914,\n",
       "        25.94729998,  20.64449029,  24.78306075,  35.12773084,\n",
       "       226.28114719, 212.61021614,  25.51953988, 236.30270225,\n",
       "        34.05205958,  31.13051061,  20.53198971,  20.4815603 ,\n",
       "       201.10897627, 314.15275622, 337.05653348, 262.74883726,\n",
       "       101.26165183, 220.56538593, 141.34673698, 208.09232889,\n",
       "        23.95241008, 353.71850149, 223.51807174,  31.9007203 ,\n",
       "       239.26690541, 310.86292886,  29.03488982, 229.09991948,\n",
       "        37.38488939, 290.72485578, 328.01040099, 146.24869051,\n",
       "        48.7616908 , 234.28506659, 263.57653887,  20.51827948,\n",
       "        30.77150991, 282.49842947, 321.10468011,  28.58280003,\n",
       "       267.71508224,  31.11357979, 225.1451952 , 201.20475686,\n",
       "        32.28240996, 223.37744899,  32.70360005, 311.10415544,\n",
       "       182.20833137, 270.68735535,  97.63201003, 333.17496632,\n",
       "       246.58171808, 249.82349049,  27.74809001,  29.05543096,\n",
       "       198.24000467, 359.32422314,  34.15446925,  33.22618028,\n",
       "       221.31063641, 211.79001232,  28.01926938,  34.79039152,\n",
       "       164.16328096,  21.27559088, 176.17713917, 298.46003596,\n",
       "        32.85305002, 170.91492066,  36.06419125,  20.39997999,\n",
       "        34.18482895, 212.59802887,  18.09445026,  99.02011252,\n",
       "       224.46715786,  28.59022957, 336.64486513, 353.05177387,\n",
       "        34.98311047, 251.67887277, 333.50401286,  22.59211063,\n",
       "        25.4279199 , 182.42872268, 347.97578062, 206.66369228,\n",
       "       304.40372349,  23.26899959,  26.77769983, 137.48751048,\n",
       "       335.97642225, 264.32683136, 304.64404748, 207.60842917,\n",
       "        90.43960894, 187.31039272, 183.17654568, 297.64100177,\n",
       "        30.06076015, 250.08246237, 122.91541942, 188.08329922,\n",
       "       191.1615658 , 350.00591072,  33.0516986 , 209.84163759,\n",
       "        29.80227979, 357.92193233,  38.24529058, 217.34229218,\n",
       "       355.52460362, 347.66941853,  34.40132044, 191.89772501,\n",
       "       211.38786656, 151.65172889, 295.51742461, 205.04171063,\n",
       "        20.73649953, 347.90689964, 220.07006343,  23.55624029,\n",
       "       235.50480246, 261.1451036 , 201.68501899, 176.89322901,\n",
       "        34.76781128, 328.12825577,  26.66386937, 192.03251756,\n",
       "        29.54608999,  18.35622004, 226.70461087, 203.86720817,\n",
       "       224.09415457, 338.04230211, 166.72022907, 254.51288768,\n",
       "        31.26408965,  28.68413054, 309.00387785,  32.92457058,\n",
       "        24.57225997, 179.12899791, 266.54327533, 251.49536119,\n",
       "        33.07412042,  28.40150984, 301.74747563, 188.0542253 ,\n",
       "       303.04052708,  28.19857003,  31.80692887, 232.4165027 ,\n",
       "       197.53185242, 203.23961256, 193.06160285,  23.72017012,\n",
       "       231.86875716, 187.08039002,  25.6257198 , 191.14795907,\n",
       "        33.21011042,  24.45486005, 313.80422782, 284.31581917,\n",
       "       314.44831619,  30.07611847, 342.25707245,  26.82928975,\n",
       "       144.92182759, 204.34317291,  19.9495394 ,  32.96647057,\n",
       "        34.14469944,  36.55038914,  28.08314005,  26.15538999,\n",
       "       255.18895066,  25.89710002,  28.39787076, 249.34490263,\n",
       "        28.15527999, 206.73334941, 223.64803841, 243.55389544,\n",
       "       290.33287702, 314.43247148, 341.92661086, 376.00805223,\n",
       "       272.87921307, 341.61990181, 211.97312727,  29.29594994,\n",
       "       329.28327635, 305.07223978, 217.2455248 , 208.19421425,\n",
       "       220.20969937, 343.83492328, 245.14565342, 206.50668144,\n",
       "       220.10994292,  33.6781993 , 276.68410664, 251.37301351,\n",
       "        34.37240888, 344.84425629, 211.12942077, 167.13105771,\n",
       "       319.99689157,  27.66128975, 320.84395264, 329.5471585 ,\n",
       "       163.72067964, 148.2609806 , 202.39307654, 251.06838953,\n",
       "       295.88152985, 236.31584287,  24.07294063, 188.28987512,\n",
       "       340.03735742, 113.04072166, 319.95642816, 198.93540406,\n",
       "        29.50131922,  28.26245935,  28.05145933, 259.05355723,\n",
       "        23.24731953, 218.39812594, 231.33111458, 346.77426527,\n",
       "        24.85539961, 258.9929383 ,  22.30771019,  28.99533993,\n",
       "       215.19062036,  29.46265035, 254.43725614,  27.72009031,\n",
       "        27.74863   , 216.30813408,  35.60762094,  29.03086093,\n",
       "        27.20186999, 241.34422444, 124.2864898 , 166.13116102,\n",
       "        41.83500974,  32.27827108,  34.16415888,  28.01842012,\n",
       "       277.04631986,  27.61374924,  33.7441585 , 259.93975963,\n",
       "       226.95297509,  25.77714988, 347.377061  , 117.29812882,\n",
       "        33.90640038, 365.9796366 , 229.45246672, 350.23633953,\n",
       "       202.0389885 , 224.0193414 , 305.53269741, 236.36394114,\n",
       "        29.16653985, 209.9012385 , 260.68860596,  22.79023938,\n",
       "        24.08706099, 241.7020436 , 192.30422558,  22.91752991,\n",
       "        34.22541946, 337.4617972 ,  23.19606928, 141.76722236,\n",
       "        28.45776034,  34.04481092, 287.6738246 , 190.89499437,\n",
       "       369.84716942,  28.45806071,  27.07715914,  29.55113002,\n",
       "       205.06652265, 143.95533885, 337.58929839,  26.82327904,\n",
       "        33.82435862, 172.50075456,  28.1145306 , 249.15559435,\n",
       "       230.45063803, 250.49918823, 320.66919825,  50.81615005])"
      ]
     },
     "execution_count": 48,
     "metadata": {},
     "output_type": "execute_result"
    }
   ],
   "source": [
    "RF_pred"
   ]
  },
  {
   "cell_type": "code",
   "execution_count": 57,
   "id": "8f76b6b0-a57f-4969-ac89-35f843f2619d",
   "metadata": {},
   "outputs": [
    {
     "name": "stdout",
     "output_type": "stream",
     "text": [
      "Mean Absolute Error: 3.2\n"
     ]
    }
   ],
   "source": [
    "print('Mean Absolute Error:', round(np.mean(errors),2))"
   ]
  },
  {
   "cell_type": "code",
   "execution_count": 58,
   "id": "27f36fdd",
   "metadata": {},
   "outputs": [
    {
     "data": {
      "text/plain": [
       "3.2014876548328286"
      ]
     },
     "execution_count": 58,
     "metadata": {},
     "output_type": "execute_result"
    }
   ],
   "source": [
    "np.mean(errors)"
   ]
  },
  {
   "cell_type": "code",
   "execution_count": 50,
   "id": "01187cc2",
   "metadata": {},
   "outputs": [
    {
     "data": {
      "text/plain": [
       "0.9980686790917024"
      ]
     },
     "execution_count": 50,
     "metadata": {},
     "output_type": "execute_result"
    }
   ],
   "source": [
    "from sklearn.metrics import r2_score\n",
    "r2_score(RF_pred,y_test)"
   ]
  },
  {
   "cell_type": "code",
   "execution_count": 51,
   "id": "0ec4784b",
   "metadata": {},
   "outputs": [
    {
     "data": {
      "text/plain": [
       "0.9980146860408631"
      ]
     },
     "execution_count": 51,
     "metadata": {},
     "output_type": "execute_result"
    }
   ],
   "source": [
    "from sklearn.metrics import r2_score\n",
    "r2_score(RF_pred2,y_test2)"
   ]
  },
  {
   "cell_type": "code",
   "execution_count": 52,
   "id": "014cb141",
   "metadata": {},
   "outputs": [
    {
     "data": {
      "text/plain": [
       "0.997979674439446"
      ]
     },
     "execution_count": 52,
     "metadata": {},
     "output_type": "execute_result"
    }
   ],
   "source": [
    "from sklearn.metrics import r2_score\n",
    "r2_score(RF_pred3,y_test3)"
   ]
  },
  {
   "cell_type": "code",
   "execution_count": 53,
   "id": "00db6f4e-f27e-42e1-8ec8-78364e10fa69",
   "metadata": {},
   "outputs": [
    {
     "data": {
      "text/html": [
       "<div>\n",
       "<style scoped>\n",
       "    .dataframe tbody tr th:only-of-type {\n",
       "        vertical-align: middle;\n",
       "    }\n",
       "\n",
       "    .dataframe tbody tr th {\n",
       "        vertical-align: top;\n",
       "    }\n",
       "\n",
       "    .dataframe thead th {\n",
       "        text-align: right;\n",
       "    }\n",
       "</style>\n",
       "<table border=\"1\" class=\"dataframe\">\n",
       "  <thead>\n",
       "    <tr style=\"text-align: right;\">\n",
       "      <th></th>\n",
       "      <th>index</th>\n",
       "      <th>Actual</th>\n",
       "      <th>Predicted</th>\n",
       "      <th>Id</th>\n",
       "    </tr>\n",
       "  </thead>\n",
       "  <tbody>\n",
       "    <tr>\n",
       "      <th>0</th>\n",
       "      <td>382</td>\n",
       "      <td>28.080000</td>\n",
       "      <td>28.244160</td>\n",
       "      <td>0</td>\n",
       "    </tr>\n",
       "    <tr>\n",
       "      <th>1</th>\n",
       "      <td>529</td>\n",
       "      <td>26.100000</td>\n",
       "      <td>28.635940</td>\n",
       "      <td>1</td>\n",
       "    </tr>\n",
       "    <tr>\n",
       "      <th>2</th>\n",
       "      <td>1231</td>\n",
       "      <td>244.350006</td>\n",
       "      <td>246.978878</td>\n",
       "      <td>2</td>\n",
       "    </tr>\n",
       "    <tr>\n",
       "      <th>3</th>\n",
       "      <td>211</td>\n",
       "      <td>27.600000</td>\n",
       "      <td>26.855941</td>\n",
       "      <td>3</td>\n",
       "    </tr>\n",
       "    <tr>\n",
       "      <th>4</th>\n",
       "      <td>1393</td>\n",
       "      <td>207.850006</td>\n",
       "      <td>212.785808</td>\n",
       "      <td>4</td>\n",
       "    </tr>\n",
       "    <tr>\n",
       "      <th>5</th>\n",
       "      <td>904</td>\n",
       "      <td>181.410004</td>\n",
       "      <td>176.442029</td>\n",
       "      <td>5</td>\n",
       "    </tr>\n",
       "    <tr>\n",
       "      <th>6</th>\n",
       "      <td>361</td>\n",
       "      <td>32.599998</td>\n",
       "      <td>32.828231</td>\n",
       "      <td>6</td>\n",
       "    </tr>\n",
       "    <tr>\n",
       "      <th>7</th>\n",
       "      <td>282</td>\n",
       "      <td>23.820000</td>\n",
       "      <td>25.031489</td>\n",
       "      <td>7</td>\n",
       "    </tr>\n",
       "    <tr>\n",
       "      <th>8</th>\n",
       "      <td>168</td>\n",
       "      <td>23.889999</td>\n",
       "      <td>23.543031</td>\n",
       "      <td>8</td>\n",
       "    </tr>\n",
       "    <tr>\n",
       "      <th>9</th>\n",
       "      <td>100</td>\n",
       "      <td>29.889999</td>\n",
       "      <td>30.942310</td>\n",
       "      <td>9</td>\n",
       "    </tr>\n",
       "  </tbody>\n",
       "</table>\n",
       "</div>"
      ],
      "text/plain": [
       "   index      Actual   Predicted  Id\n",
       "0    382   28.080000   28.244160   0\n",
       "1    529   26.100000   28.635940   1\n",
       "2   1231  244.350006  246.978878   2\n",
       "3    211   27.600000   26.855941   3\n",
       "4   1393  207.850006  212.785808   4\n",
       "5    904  181.410004  176.442029   5\n",
       "6    361   32.599998   32.828231   6\n",
       "7    282   23.820000   25.031489   7\n",
       "8    168   23.889999   23.543031   8\n",
       "9    100   29.889999   30.942310   9"
      ]
     },
     "execution_count": 53,
     "metadata": {},
     "output_type": "execute_result"
    }
   ],
   "source": [
    "Results= pd.DataFrame(columns=['Actual','Predicted'])\n",
    "Results['Actual']=y_test\n",
    "Results['Predicted']=RF_pred\n",
    "Results=Results.reset_index()\n",
    "Results['Id']=Results.index\n",
    "Results.head(10)"
   ]
  },
  {
   "cell_type": "code",
   "execution_count": 54,
   "id": "b4d08d53",
   "metadata": {},
   "outputs": [
    {
     "data": {
      "text/plain": [
       "[]"
      ]
     },
     "execution_count": 54,
     "metadata": {},
     "output_type": "execute_result"
    },
    {
     "data": {
      "image/png": "[encoded data removed]",
      "text/plain": [
       "<Figure size 640x480 with 1 Axes>"
      ]
     },
     "metadata": {},
     "output_type": "display_data"
    }
   ],
   "source": [
    "sns.lineplot(x='Id',y='Actual',data=Results.head(50))\n",
    "sns.lineplot(x='Id',y='Predicted',data=Results.head(50))\n",
    "plt.plot()"
   ]
  },
  {
   "cell_type": "code",
   "execution_count": 56,
   "id": "f6ea8282",
   "metadata": {},
   "outputs": [
    {
     "data": {
      "text/html": [
       "<div>\n",
       "<style scoped>\n",
       "    .dataframe tbody tr th:only-of-type {\n",
       "        vertical-align: middle;\n",
       "    }\n",
       "\n",
       "    .dataframe tbody tr th {\n",
       "        vertical-align: top;\n",
       "    }\n",
       "\n",
       "    .dataframe thead th {\n",
       "        text-align: right;\n",
       "    }\n",
       "</style>\n",
       "<table border=\"1\" class=\"dataframe\">\n",
       "  <thead>\n",
       "    <tr style=\"text-align: right;\">\n",
       "      <th></th>\n",
       "      <th>Regression Types Used</th>\n",
       "      <th>Test Data Amount = 33</th>\n",
       "      <th>Test Data Amount = 27</th>\n",
       "      <th>Test Data Amount =22</th>\n",
       "    </tr>\n",
       "  </thead>\n",
       "  <tbody>\n",
       "    <tr>\n",
       "      <th>0</th>\n",
       "      <td>Linear Regression</td>\n",
       "      <td>Acu=0.8687654977642258</td>\n",
       "      <td>0.864324758</td>\n",
       "      <td>0.864450097</td>\n",
       "    </tr>\n",
       "    <tr>\n",
       "      <th>1</th>\n",
       "      <td>Ridge Regression</td>\n",
       "      <td>Acu=0.844613515685820</td>\n",
       "      <td>0.840091408</td>\n",
       "      <td>0.839553541</td>\n",
       "    </tr>\n",
       "    <tr>\n",
       "      <th>2</th>\n",
       "      <td>Random Forest</td>\n",
       "      <td>Acu=0.9980686790917024</td>\n",
       "      <td>99.80%</td>\n",
       "      <td>99.80%</td>\n",
       "    </tr>\n",
       "  </tbody>\n",
       "</table>\n",
       "</div>"
      ],
      "text/plain": [
       "  Regression Types Used   Test Data Amount = 33 Test Data Amount = 27  \\\n",
       "0     Linear Regression  Acu=0.8687654977642258           0.864324758   \n",
       "1      Ridge Regression   Acu=0.844613515685820           0.840091408   \n",
       "2        Random Forest   Acu=0.9980686790917024                99.80%   \n",
       "\n",
       "  Test Data Amount =22  \n",
       "0          0.864450097  \n",
       "1          0.839553541  \n",
       "2               99.80%  "
      ]
     },
     "execution_count": 56,
     "metadata": {},
     "output_type": "execute_result"
    }
   ],
   "source": [
    "result = pd.read_csv(r\"C:\\Users\\saiga\\OneDrive\\Documents\\Results.csv\")\n",
    "result"
   ]
  },
  {
   "cell_type": "markdown",
   "id": "5d5232ed-951a-4f3b-bafa-dac9aa97228b",
   "metadata": {},
   "source": [
    "# Another Way to Table The Values"
   ]
  },
  {
   "cell_type": "code",
   "execution_count": 3,
   "id": "aa3bd451",
   "metadata": {},
   "outputs": [
    {
     "ename": "ModuleNotFoundError",
     "evalue": "No module named 'Prettytable'",
     "output_type": "error",
     "traceback": [
      "\u001b[1;31m---------------------------------------------------------------------------\u001b[0m",
      "\u001b[1;31mModuleNotFoundError\u001b[0m                       Traceback (most recent call last)",
      "Cell \u001b[1;32mIn[3], line 1\u001b[0m\n\u001b[1;32m----> 1\u001b[0m \u001b[38;5;28;01mfrom\u001b[39;00m \u001b[38;5;21;01mPrettytable\u001b[39;00m \u001b[38;5;28;01mimport\u001b[39;00m PrettyTable\n\u001b[0;32m      2\u001b[0m table\u001b[38;5;241m=\u001b[39mPrettyTable()\n\u001b[0;32m      3\u001b[0m table\u001b[38;5;241m.\u001b[39mfield_names \u001b[38;5;241m=\u001b[39m [\u001b[38;5;124m\"\u001b[39m\u001b[38;5;124mTEST_SIZE\u001b[39m\u001b[38;5;124m\"\u001b[39m,\u001b[38;5;124m\"\u001b[39m\u001b[38;5;124m0.33\u001b[39m\u001b[38;5;124m\"\u001b[39m]\n",
      "\u001b[1;31mModuleNotFoundError\u001b[0m: No module named 'Prettytable'"
     ]
    }
   ],
   "source": [
    "from Prettytable import PrettyTable\n",
    "table=PrettyTable()\n",
    "table.field_names = [\"TEST_SIZE\",\"0.33\"]\n",
    "table.add_row([\"Logistic\",0.8984848484848484])\n",
    "table.add_row([\"DecisionTree\",0.9515151515151515])\n",
    "table.add_row([\"RandomForest\",0.9393939393939394])\n",
    "print(table)"
   ]
  },
  {
   "cell_type": "code",
   "execution_count": 4,
   "id": "c739c300-945e-46a7-aaa7-957cf03100cc",
   "metadata": {},
   "outputs": [
    {
     "name": "stdout",
     "output_type": "stream",
     "text": [
      "Requirement already satisfied: Prettytable in c:\\users\\saiga\\appdata\\local\\programs\\python\\python312\\lib\\site-packages (3.9.0)\n",
      "Requirement already satisfied: wcwidth in c:\\users\\saiga\\appdata\\local\\programs\\python\\python312\\lib\\site-packages (from Prettytable) (0.2.8)\n"
     ]
    },
    {
     "name": "stderr",
     "output_type": "stream",
     "text": [
      "\n",
      "[notice] A new release of pip is available: 23.3.1 -> 23.3.2\n",
      "[notice] To update, run: python.exe -m pip install --upgrade pip\n"
     ]
    }
   ],
   "source": [
    "!pip install Prettytable\n"
   ]
  },
  {
   "cell_type": "code",
   "execution_count": null,
   "id": "f2d86cd7-3dd5-4996-aff1-a008d57bb6a6",
   "metadata": {},
   "outputs": [],
   "source": []
  }
 ],
 "metadata": {
  "kernelspec": {
   "display_name": "Python 3 (ipykernel)",
   "language": "python",
   "name": "python3"
  },
  "language_info": {
   "codemirror_mode": {
    "name": "ipython",
    "version": 3
   },
   "file_extension": ".py",
   "mimetype": "text/x-python",
   "name": "python",
   "nbconvert_exporter": "python",
   "pygments_lexer": "ipython3",
   "version": "3.12.0"
  }
 },
 "nbformat": 4,
 "nbformat_minor": 5
}
